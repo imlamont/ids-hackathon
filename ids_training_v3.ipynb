{
  "cells": [
    {
      "cell_type": "code",
      "execution_count": 1,
      "metadata": {
        "id": "KvVFcKywqi-2"
      },
      "outputs": [
        {
          "name": "stdout",
          "output_type": "stream",
          "text": [
            "Requirement already satisfied: pandas in c:\\users\\agizi\\ids-hackathon\\.venv\\lib\\site-packages (2.3.1)\n",
            "Requirement already satisfied: numpy>=1.23.2 in c:\\users\\agizi\\ids-hackathon\\.venv\\lib\\site-packages (from pandas) (2.3.1)\n",
            "Requirement already satisfied: python-dateutil>=2.8.2 in c:\\users\\agizi\\ids-hackathon\\.venv\\lib\\site-packages (from pandas) (2.9.0.post0)\n",
            "Requirement already satisfied: pytz>=2020.1 in c:\\users\\agizi\\ids-hackathon\\.venv\\lib\\site-packages (from pandas) (2025.2)\n",
            "Requirement already satisfied: tzdata>=2022.7 in c:\\users\\agizi\\ids-hackathon\\.venv\\lib\\site-packages (from pandas) (2025.2)\n",
            "Requirement already satisfied: six>=1.5 in c:\\users\\agizi\\ids-hackathon\\.venv\\lib\\site-packages (from python-dateutil>=2.8.2->pandas) (1.17.0)\n",
            "Looking in indexes: https://download.pytorch.org/whl/cu128\n",
            "Requirement already satisfied: torch in c:\\users\\agizi\\ids-hackathon\\.venv\\lib\\site-packages (2.7.1+cu128)\n",
            "Requirement already satisfied: filelock in c:\\users\\agizi\\ids-hackathon\\.venv\\lib\\site-packages (from torch) (3.13.1)\n",
            "Requirement already satisfied: typing-extensions>=4.10.0 in c:\\users\\agizi\\ids-hackathon\\.venv\\lib\\site-packages (from torch) (4.14.1)\n",
            "Requirement already satisfied: sympy>=1.13.3 in c:\\users\\agizi\\ids-hackathon\\.venv\\lib\\site-packages (from torch) (1.13.3)\n",
            "Requirement already satisfied: networkx in c:\\users\\agizi\\ids-hackathon\\.venv\\lib\\site-packages (from torch) (3.3)\n",
            "Requirement already satisfied: jinja2 in c:\\users\\agizi\\ids-hackathon\\.venv\\lib\\site-packages (from torch) (3.1.4)\n",
            "Requirement already satisfied: fsspec in c:\\users\\agizi\\ids-hackathon\\.venv\\lib\\site-packages (from torch) (2024.6.1)\n",
            "Requirement already satisfied: mpmath<1.4,>=1.1.0 in c:\\users\\agizi\\ids-hackathon\\.venv\\lib\\site-packages (from sympy>=1.13.3->torch) (1.3.0)\n",
            "Requirement already satisfied: MarkupSafe>=2.0 in c:\\users\\agizi\\ids-hackathon\\.venv\\lib\\site-packages (from jinja2->torch) (2.1.5)\n",
            "Requirement already satisfied: ipdb in c:\\users\\agizi\\ids-hackathon\\.venv\\lib\\site-packages (0.13.13)\n",
            "Requirement already satisfied: ipython>=7.31.1 in c:\\users\\agizi\\ids-hackathon\\.venv\\lib\\site-packages (from ipdb) (9.4.0)\n",
            "Requirement already satisfied: decorator in c:\\users\\agizi\\ids-hackathon\\.venv\\lib\\site-packages (from ipdb) (5.2.1)\n",
            "Requirement already satisfied: colorama in c:\\users\\agizi\\ids-hackathon\\.venv\\lib\\site-packages (from ipython>=7.31.1->ipdb) (0.4.6)\n",
            "Requirement already satisfied: ipython-pygments-lexers in c:\\users\\agizi\\ids-hackathon\\.venv\\lib\\site-packages (from ipython>=7.31.1->ipdb) (1.1.1)\n",
            "Requirement already satisfied: jedi>=0.16 in c:\\users\\agizi\\ids-hackathon\\.venv\\lib\\site-packages (from ipython>=7.31.1->ipdb) (0.19.2)\n",
            "Requirement already satisfied: matplotlib-inline in c:\\users\\agizi\\ids-hackathon\\.venv\\lib\\site-packages (from ipython>=7.31.1->ipdb) (0.1.7)\n",
            "Requirement already satisfied: prompt_toolkit<3.1.0,>=3.0.41 in c:\\users\\agizi\\ids-hackathon\\.venv\\lib\\site-packages (from ipython>=7.31.1->ipdb) (3.0.51)\n",
            "Requirement already satisfied: pygments>=2.4.0 in c:\\users\\agizi\\ids-hackathon\\.venv\\lib\\site-packages (from ipython>=7.31.1->ipdb) (2.19.2)\n",
            "Requirement already satisfied: stack_data in c:\\users\\agizi\\ids-hackathon\\.venv\\lib\\site-packages (from ipython>=7.31.1->ipdb) (0.6.3)\n",
            "Requirement already satisfied: traitlets>=5.13.0 in c:\\users\\agizi\\ids-hackathon\\.venv\\lib\\site-packages (from ipython>=7.31.1->ipdb) (5.14.3)\n",
            "Requirement already satisfied: typing_extensions>=4.6 in c:\\users\\agizi\\ids-hackathon\\.venv\\lib\\site-packages (from ipython>=7.31.1->ipdb) (4.14.1)\n",
            "Requirement already satisfied: wcwidth in c:\\users\\agizi\\ids-hackathon\\.venv\\lib\\site-packages (from prompt_toolkit<3.1.0,>=3.0.41->ipython>=7.31.1->ipdb) (0.2.13)\n",
            "Requirement already satisfied: parso<0.9.0,>=0.8.4 in c:\\users\\agizi\\ids-hackathon\\.venv\\lib\\site-packages (from jedi>=0.16->ipython>=7.31.1->ipdb) (0.8.4)\n",
            "Requirement already satisfied: executing>=1.2.0 in c:\\users\\agizi\\ids-hackathon\\.venv\\lib\\site-packages (from stack_data->ipython>=7.31.1->ipdb) (2.2.0)\n",
            "Requirement already satisfied: asttokens>=2.1.0 in c:\\users\\agizi\\ids-hackathon\\.venv\\lib\\site-packages (from stack_data->ipython>=7.31.1->ipdb) (3.0.0)\n",
            "Requirement already satisfied: pure-eval in c:\\users\\agizi\\ids-hackathon\\.venv\\lib\\site-packages (from stack_data->ipython>=7.31.1->ipdb) (0.2.3)\n",
            "Requirement already satisfied: tqdm in c:\\users\\agizi\\ids-hackathon\\.venv\\lib\\site-packages (4.67.1)\n",
            "Requirement already satisfied: colorama in c:\\users\\agizi\\ids-hackathon\\.venv\\lib\\site-packages (from tqdm) (0.4.6)\n",
            "Requirement already satisfied: pyarrow in c:\\users\\agizi\\ids-hackathon\\.venv\\lib\\site-packages (21.0.0)\n",
            "Requirement already satisfied: matplotlib in c:\\users\\agizi\\ids-hackathon\\.venv\\lib\\site-packages (3.10.3)\n",
            "Requirement already satisfied: contourpy>=1.0.1 in c:\\users\\agizi\\ids-hackathon\\.venv\\lib\\site-packages (from matplotlib) (1.3.2)\n",
            "Requirement already satisfied: cycler>=0.10 in c:\\users\\agizi\\ids-hackathon\\.venv\\lib\\site-packages (from matplotlib) (0.12.1)\n",
            "Requirement already satisfied: fonttools>=4.22.0 in c:\\users\\agizi\\ids-hackathon\\.venv\\lib\\site-packages (from matplotlib) (4.59.0)\n",
            "Requirement already satisfied: kiwisolver>=1.3.1 in c:\\users\\agizi\\ids-hackathon\\.venv\\lib\\site-packages (from matplotlib) (1.4.8)\n",
            "Requirement already satisfied: numpy>=1.23 in c:\\users\\agizi\\ids-hackathon\\.venv\\lib\\site-packages (from matplotlib) (2.3.1)\n",
            "Requirement already satisfied: packaging>=20.0 in c:\\users\\agizi\\ids-hackathon\\.venv\\lib\\site-packages (from matplotlib) (25.0)\n",
            "Requirement already satisfied: pillow>=8 in c:\\users\\agizi\\ids-hackathon\\.venv\\lib\\site-packages (from matplotlib) (11.3.0)\n",
            "Requirement already satisfied: pyparsing>=2.3.1 in c:\\users\\agizi\\ids-hackathon\\.venv\\lib\\site-packages (from matplotlib) (3.2.3)\n",
            "Requirement already satisfied: python-dateutil>=2.7 in c:\\users\\agizi\\ids-hackathon\\.venv\\lib\\site-packages (from matplotlib) (2.9.0.post0)\n",
            "Requirement already satisfied: six>=1.5 in c:\\users\\agizi\\ids-hackathon\\.venv\\lib\\site-packages (from python-dateutil>=2.7->matplotlib) (1.17.0)\n",
            "Requirement already satisfied: scikit-learn in c:\\users\\agizi\\ids-hackathon\\.venv\\lib\\site-packages (1.7.1)\n",
            "Requirement already satisfied: numpy>=1.22.0 in c:\\users\\agizi\\ids-hackathon\\.venv\\lib\\site-packages (from scikit-learn) (2.3.1)\n",
            "Requirement already satisfied: scipy>=1.8.0 in c:\\users\\agizi\\ids-hackathon\\.venv\\lib\\site-packages (from scikit-learn) (1.16.0)\n",
            "Requirement already satisfied: joblib>=1.2.0 in c:\\users\\agizi\\ids-hackathon\\.venv\\lib\\site-packages (from scikit-learn) (1.5.1)\n",
            "Requirement already satisfied: threadpoolctl>=3.1.0 in c:\\users\\agizi\\ids-hackathon\\.venv\\lib\\site-packages (from scikit-learn) (3.6.0)\n",
            "Requirement already satisfied: scipy in c:\\users\\agizi\\ids-hackathon\\.venv\\lib\\site-packages (1.16.0)\n",
            "Requirement already satisfied: numpy<2.6,>=1.25.2 in c:\\users\\agizi\\ids-hackathon\\.venv\\lib\\site-packages (from scipy) (2.3.1)\n"
          ]
        }
      ],
      "source": [
        "# install dependencies\n",
        "! pip install pandas\n",
        "! pip3 install torch --index-url https://download.pytorch.org/whl/cu128\n",
        "! pip install ipdb\n",
        "! pip install tqdm\n",
        "! pip install pyarrow\n",
        "! pip install matplotlib\n",
        "! pip install scikit-learn\n",
        "! pip install scipy"
      ]
    },
    {
      "cell_type": "code",
      "execution_count": 11,
      "metadata": {
        "colab": {
          "base_uri": "https://localhost:8080/",
          "height": 529
        },
        "id": "X-MmhuY3qjvp",
        "outputId": "f140e01f-5d8c-4b69-b3c8-eccc82b9b4d1"
      },
      "outputs": [
        {
          "name": "stdout",
          "output_type": "stream",
          "text": [
            "cuda\n"
          ]
        }
      ],
      "source": [
        "# import libraries\n",
        "import os\n",
        "#os.environ[\"CUDA_LAUNCH_BLOCKING\"] = \"1\"\n",
        "import pandas as pd\n",
        "import glob\n",
        "import torch\n",
        "from torch.utils.data import Dataset, DataLoader, random_split, IterableDataset\n",
        "import gc\n",
        "import pyarrow as pa\n",
        "import numpy as np\n",
        "import torch.nn.functional as F\n",
        "import torch.nn as nn\n",
        "import time\n",
        "from tqdm import tqdm\n",
        "import pyarrow.dataset as ds\n",
        "from sklearn.metrics import roc_curve, auc, precision_recall_fscore_support\n",
        "import matplotlib.pyplot as plt\n",
        "import random\n",
        "import json\n",
        "import torch.nn.utils.prune as prune\n",
        "\n",
        "device = torch.device(\"cuda\" if torch.cuda.is_available() else \"cpu\")\n",
        "print(device)"
      ]
    },
    {
      "cell_type": "code",
      "execution_count": 3,
      "metadata": {
        "id": "ACFRdy1cqsto"
      },
      "outputs": [],
      "source": [
        "# from google.colab import drive\n",
        "# drive.mount('/content/drive')\n",
        "# ! cp drive/MyDrive/normalized-ids2018-parquet.tar.gz /content/\n",
        "# ! tar -xzvf normalized-ids2018-parquet.tar.gz normalized/"
      ]
    },
    {
      "cell_type": "code",
      "execution_count": 12,
      "metadata": {
        "id": "PIwZWOqLKqTR"
      },
      "outputs": [
        {
          "name": "stdout",
          "output_type": "stream",
          "text": [
            "['normalized\\\\normalized_02-14-2018_part1.parquet', 'normalized\\\\normalized_02-15-2018_part1.parquet', 'normalized\\\\normalized_02-16-2018_part1.parquet', 'normalized\\\\normalized_02-20-2018_part1.parquet', 'normalized\\\\normalized_02-20-2018_part2.parquet', 'normalized\\\\normalized_02-20-2018_part3.parquet', 'normalized\\\\normalized_02-20-2018_part4.parquet', 'normalized\\\\normalized_02-20-2018_part5.parquet', 'normalized\\\\normalized_02-20-2018_part6.parquet', 'normalized\\\\normalized_02-20-2018_part7.parquet', 'normalized\\\\normalized_02-20-2018_part8.parquet', 'normalized\\\\normalized_02-21-2018_part1.parquet', 'normalized\\\\normalized_02-22-2018_part1.parquet', 'normalized\\\\normalized_02-23-2018_part1.parquet', 'normalized\\\\normalized_02-28-2018_part1.parquet', 'normalized\\\\normalized_03-01-2018_part1.parquet', 'normalized\\\\normalized_03-02-2018_part1.parquet']\n",
            "[]\n"
          ]
        }
      ],
      "source": [
        "PARQUET_FILES = glob.glob('normalized/*.parquet')\n",
        "PARQUET_FILES_BENIGN = glob.glob('normalized-benign/*.parquet')\n",
        "print(PARQUET_FILES)\n",
        "print(PARQUET_FILES_BENIGN)"
      ]
    },
    {
      "cell_type": "code",
      "execution_count": 32,
      "metadata": {
        "id": "hhQA3e0nYgzh"
      },
      "outputs": [
        {
          "name": "stdout",
          "output_type": "stream",
          "text": [
            "Label\n",
            "['ACK Flag Cnt', 'Active Max', 'Active Mean', 'Active Min', 'Active Std', 'Bwd Blk Rate Avg', 'Bwd Byts/b Avg', 'Bwd Header Len', 'Bwd IAT Max', 'Bwd IAT Mean', 'Bwd IAT Min', 'Bwd IAT Std', 'Bwd IAT Tot', 'Bwd PSH Flags', 'Bwd Pkt Len Max', 'Bwd Pkt Len Mean', 'Bwd Pkt Len Min', 'Bwd Pkt Len Std', 'Bwd Pkts/b Avg', 'Bwd Pkts/s', 'Bwd Seg Size Avg', 'Bwd URG Flags', 'CWE Flag Count', 'Down/Up Ratio', 'Dst Port', 'ECE Flag Cnt', 'FIN Flag Cnt', 'Flow Byts/s', 'Flow Duration', 'Flow IAT Max', 'Flow IAT Mean', 'Flow IAT Min', 'Flow IAT Std', 'Flow Pkts/s', 'Fwd Act Data Pkts', 'Fwd Blk Rate Avg', 'Fwd Byts/b Avg', 'Fwd Header Len', 'Fwd IAT Max', 'Fwd IAT Mean', 'Fwd IAT Min', 'Fwd IAT Std', 'Fwd IAT Tot', 'Fwd PSH Flags', 'Fwd Pkt Len Max', 'Fwd Pkt Len Mean', 'Fwd Pkt Len Min', 'Fwd Pkt Len Std', 'Fwd Pkts/b Avg', 'Fwd Pkts/s', 'Fwd Seg Size Avg', 'Fwd Seg Size Min', 'Fwd URG Flags', 'Idle Max', 'Idle Mean', 'Idle Min', 'Idle Std', 'Init Bwd Win Byts', 'Init Fwd Win Byts', 'SYN Flag Cnt', 'Subflow Bwd Byts', 'Subflow Bwd Pkts', 'Subflow Fwd Byts', 'Subflow Fwd Pkts', 'Tot Bwd Pkts', 'Tot Fwd Pkts', 'TotLen Bwd Pkts', 'TotLen Fwd Pkts', 'Label']\n"
          ]
        }
      ],
      "source": [
        "# canon columns\n",
        "\n",
        "CANON_COLUMN_INDEX = ['Fwd IAT Tot', 'Fwd Pkt Len Min', 'Down/Up Ratio', 'Dst Port', 'Fwd IAT Std', 'Fwd Header Len', 'Fwd IAT Min', 'Flow IAT Std', 'Active Std', 'Bwd IAT Max', 'Fwd Pkt Len Mean', 'Flow IAT Mean', 'Fwd Act Data Pkts', 'Bwd Pkt Len Max', 'Flow IAT Max', 'ACK Flag Cnt', 'Bwd IAT Tot', 'Flow IAT Min', 'Bwd Pkts/b Avg', 'Fwd IAT Max', 'SYN Flag Cnt', 'Bwd Header Len', 'Fwd Seg Size Avg', 'Bwd Byts/b Avg', 'Subflow Bwd Byts', 'Bwd Pkts/s', 'Fwd IAT Mean', 'Fwd Pkt Len Std', 'Init Bwd Win Byts', 'Active Min', 'Subflow Fwd Byts', 'Init Fwd Win Byts', 'Bwd Pkt Len Std', 'Fwd PSH Flags', 'Fwd Pkts/s', 'Bwd Blk Rate Avg', 'Flow Byts/s', 'CWE Flag Count', 'Active Max', 'Fwd Byts/b Avg', 'Fwd Blk Rate Avg', 'Fwd Pkts/b Avg', 'Idle Mean', 'Idle Std', 'Fwd Pkt Len Max', 'Flow Duration', 'Fwd Seg Size Min', 'Bwd IAT Min', 'TotLen Fwd Pkts', 'Flow Pkts/s', 'Active Mean', 'ECE Flag Cnt', 'Idle Min', 'Subflow Bwd Pkts', 'Bwd Pkt Len Mean', 'Tot Fwd Pkts', 'Bwd IAT Std', 'Bwd Seg Size Avg', 'Bwd URG Flags', 'Bwd Pkt Len Min', 'Tot Bwd Pkts', 'Subflow Fwd Pkts', 'Bwd IAT Mean', 'FIN Flag Cnt', 'Bwd PSH Flags', 'TotLen Bwd Pkts', 'Fwd URG Flags', 'Idle Max']\n",
        "CANON_COLUMN_INDEX.sort()\n",
        "CANON_COLUMN_INDEX.append('Label')\n",
        "index_map = {'ack_flag_cnt': 'ACK Flag Cnt', 'active_max': 'Active Max', 'active_mean': 'Active Mean', 'active_min': 'Active Min', 'active_std': 'Active Std', 'bwd_blk_rate_avg': 'Bwd Blk Rate Avg', 'bwd_byts_b_avg': 'Bwd Byts/b Avg', 'bwd_header_len': 'Bwd Header Len', 'bwd_iat_max': 'Bwd IAT Max', 'bwd_iat_mean': 'Bwd IAT Mean', 'bwd_iat_min': 'Bwd IAT Min', 'bwd_iat_std': 'Bwd IAT Std', 'bwd_iat_tot': 'Bwd IAT Tot', 'bwd_psh_flags': 'Bwd PSH Flags', 'bwd_pkt_len_max': 'Bwd Pkt Len Max', 'bwd_pkt_len_mean': 'Bwd Pkt Len Mean', 'bwd_pkt_len_min': 'Bwd Pkt Len Min', 'bwd_pkt_len_std': 'Bwd Pkt Len Std', 'bwd_pkts_b_avg': 'Bwd Pkts/b Avg', 'bwd_pkts_s': 'Bwd Pkts/s', 'bwd_seg_size_avg': 'Bwd Seg Size Avg', 'bwd_urg_flags': 'Bwd URG Flags', 'cwr_flag_count': 'CWE Flag Count', 'down_up_ratio': 'Down/Up Ratio', 'dst_port': 'Dst Port', 'ece_flag_cnt': 'ECE Flag Cnt', 'fin_flag_cnt': 'FIN Flag Cnt', 'flow_byts_s': 'Flow Byts/s', 'flow_duration': 'Flow Duration', 'flow_iat_max': 'Flow IAT Max', 'flow_iat_mean': 'Flow IAT Mean', 'flow_iat_min': 'Flow IAT Min', 'flow_iat_std': 'Flow IAT Std', 'flow_pkts_s': 'Flow Pkts/s', 'fwd_act_data_pkts': 'Fwd Act Data Pkts', 'fwd_blk_rate_avg': 'Fwd Blk Rate Avg', 'fwd_byts_b_avg': 'Fwd Byts/b Avg', 'fwd_header_len': 'Fwd Header Len', 'fwd_iat_max': 'Fwd IAT Max', 'fwd_iat_mean': 'Fwd IAT Mean', 'fwd_iat_min': 'Fwd IAT Min', 'fwd_iat_std': 'Fwd IAT Std', 'fwd_iat_tot': 'Fwd IAT Tot', 'fwd_psh_flags': 'Fwd PSH Flags', 'fwd_pkt_len_max': 'Fwd Pkt Len Max', 'fwd_pkt_len_mean': 'Fwd Pkt Len Mean', 'fwd_pkt_len_min': 'Fwd Pkt Len Min', 'fwd_pkt_len_std': 'Fwd Pkt Len Std', 'fwd_pkts_b_avg': 'Fwd Pkts/b Avg', 'fwd_pkts_s': 'Fwd Pkts/s', 'fwd_seg_size_avg': 'Fwd Seg Size Avg', 'fwd_seg_size_min': 'Fwd Seg Size Min', 'fwd_urg_flags': 'Fwd URG Flags', 'idle_max': 'Idle Max', 'idle_mean': 'Idle Mean', 'idle_min': 'Idle Min', 'idle_std': 'Idle Std', 'init_bwd_win_byts': 'Init Bwd Win Byts', 'init_fwd_w': 'Init Fwd Win Byts', 'syn_flag_cnt': 'SYN Flag Cnt', 'subflow_bwd_pkts': 'Subflow Bwd Byts', 'subflow_fwd_byts': 'Subflow Bwd Pkts', 'subflow_fwd_pkts': 'Subflow Fwd Byts', 'tot_bwd_pkts': 'Subflow Fwd Pkts', 'tot_fwd_pkts': 'Tot Bwd Pkts', 'totlen_bwd_pkts': 'Tot Fwd Pkts', 'totlen_fwd_pkts': 'TotLen Bwd Pkts', 'urg_flag_cnt': 'TotLen Fwd Pkts'}\n",
        "\n",
        "TRAINING_UNWANTED_COLUMNS = ['Timestamp', 'Flow ID', 'Dst IP', \"Src IP\"]\n",
        "TRAINING_WANTED_COLUMNS = []\n",
        "for col in CANON_COLUMN_INDEX:\n",
        "  if col not in TRAINING_UNWANTED_COLUMNS:\n",
        "    TRAINING_WANTED_COLUMNS.append(col)\n",
        "  if col not in index_map.values():\n",
        "    print(col)\n",
        "print(TRAINING_WANTED_COLUMNS)\n",
        "TRAINING_FEATURES = TRAINING_WANTED_COLUMNS[:-1]\n",
        "\n",
        "CANON_SCHEMA = pa.schema([(feature, pa.float32()) for feature in TRAINING_FEATURES])"
      ]
    },
    {
      "cell_type": "code",
      "execution_count": 34,
      "metadata": {
        "id": "KFf3USxJshct"
      },
      "outputs": [
        {
          "name": "stdout",
          "output_type": "stream",
          "text": [
            "16233002\n"
          ]
        }
      ],
      "source": [
        "# pyarrow parquet dataset\n",
        "class ArrowParquetDataset(IterableDataset):\n",
        "    def __init__(self, path, batch_size=1024, shuffle=True, splits=[0.7,0.1,0.2]):\n",
        "        self.path = path\n",
        "        self.batch_size = batch_size\n",
        "        self.shuffle = shuffle\n",
        "        self.splits = splits\n",
        "        self.mode(\"train\")\n",
        "\n",
        "        self.dataset = ds.dataset(self.path, format=\"parquet\")\n",
        "        self.scanner = self.dataset.scanner(columns=TRAINING_WANTED_COLUMNS, batch_size=self.batch_size)\n",
        "\n",
        "    def mode(self, m):\n",
        "        self.mode_value = m\n",
        "\n",
        "    # approximate iterations\n",
        "    def num_iterations(self):\n",
        "        return int((len(self) * self.splits[self.mode_value]) / self.batch_size)\n",
        "\n",
        "    def __len__(self):\n",
        "        return self.scanner.count_rows()\n",
        "\n",
        "    def __iter__(self):\n",
        "        batches = list(self.scanner.to_batches())\n",
        "\n",
        "        num_batches = len(batches)\n",
        "        batch_intervals = [0]\n",
        "        running_total = 0\n",
        "        for i in range(len(self.splits) - 1):\n",
        "            length = int(np.floor(num_batches * self.splits[i]))\n",
        "            batch_intervals.append(length + running_total)\n",
        "            running_total += length\n",
        "        batch_intervals.append(num_batches)\n",
        "\n",
        "        batches = batches[batch_intervals[self.mode_value]:batch_intervals[self.mode_value + 1]]\n",
        "\n",
        "        if self.shuffle:\n",
        "            random.shuffle(batches)\n",
        "\n",
        "        for batch in batches:\n",
        "            x = batch.select(TRAINING_FEATURES).to_tensor(null_to_nan=True)\n",
        "            \n",
        "            y_string_array = batch.column(\"Label\")\n",
        "            y = torch.tensor([(0.0 if val.as_py() == \"Benign\" else 1.0) for val in y_string_array], dtype=torch.float16)\n",
        "            x = torch.tensor(x, dtype=torch.float16)\n",
        "\n",
        "            # in val and train modes ignore intrusions\n",
        "            if (self.mode_value == 0 or self.mode_value == 1):\n",
        "                benign_mask = (y == 0.0)\n",
        "                x = x[benign_mask]\n",
        "                y = y[benign_mask]\n",
        "            \n",
        "            # mask and impute nans\n",
        "            mask = torch.isnan(x).float()\n",
        "            x = torch.nan_to_num(x, nan=0.0)\n",
        "            x = torch.cat([x, mask], dim=1)\n",
        "            \n",
        "            yield x, y\n",
        "\n",
        "DS_ARROW = ArrowParquetDataset(PARQUET_FILES, batch_size=512, splits=[0.6,0.1,0.1,0.2])\n",
        "print(len(DS_ARROW))"
      ]
    },
    {
      "cell_type": "code",
      "execution_count": 35,
      "metadata": {
        "id": "XKDGOEulhXME"
      },
      "outputs": [],
      "source": [
        "# dnn model\n",
        "class DNN(nn.Module):\n",
        "  def __init__(self, input_size, hidden_sizes, output_size):\n",
        "    super(DNN, self).__init__()\n",
        "\n",
        "    #layers\n",
        "    self.input = nn.Linear(input_size, hidden_sizes[0])\n",
        "    self.output = nn.Linear(hidden_sizes[-1], output_size)\n",
        "    self.dropout = nn.Dropout(0.6)\n",
        "    self.hiddens = nn.ModuleList()\n",
        "    for i in range(len(hidden_sizes) - 1):\n",
        "      self.hiddens.append(nn.Linear(hidden_sizes[i], hidden_sizes[i+1]))\n",
        "\n",
        "  def forward(self, x):\n",
        "    x = F.relu(self.input(x))\n",
        "    for layer in self.hiddens:\n",
        "      x = F.relu(layer(x))\n",
        "    x = self.dropout(x)\n",
        "    x = self.output(x)\n",
        "    # return torch.sigmoid(x).view(-1)\n",
        "    return x"
      ]
    },
    {
      "cell_type": "code",
      "execution_count": 44,
      "metadata": {
        "id": "uDhUdI5GtDIT"
      },
      "outputs": [
        {
          "name": "stdout",
          "output_type": "stream",
          "text": [
            "DNN(\n",
            "  (input): Linear(in_features=136, out_features=68, bias=True)\n",
            "  (output): Linear(in_features=34, out_features=136, bias=True)\n",
            "  (dropout): Dropout(p=0.6, inplace=False)\n",
            "  (hiddens): ModuleList(\n",
            "    (0): Linear(in_features=68, out_features=34, bias=True)\n",
            "  )\n",
            ")\n"
          ]
        }
      ],
      "source": [
        "# create model\n",
        "input_shape = len(TRAINING_FEATURES) * 2 # because masking\n",
        "\n",
        "# autoencoder\n",
        "model = DNN(\n",
        "    input_shape,\n",
        "    [int(input_shape / 2), int(int(input_shape / 4))],\n",
        "    input_shape\n",
        ")\n",
        "\n",
        "model_desc = model.__str__()\n",
        "print(model_desc)"
      ]
    },
    {
      "cell_type": "code",
      "execution_count": 45,
      "metadata": {
        "id": "npQh_1W9f3I7"
      },
      "outputs": [
        {
          "name": "stderr",
          "output_type": "stream",
          "text": [
            "19025it [01:06, 285.44it/s]                           \n",
            "100%|██████████| 3170/3170 [00:09<00:00, 337.34it/s]\n"
          ]
        },
        {
          "name": "stdout",
          "output_type": "stream",
          "text": [
            "epoch: 1/20, train loss: 0.36501, val loss: 0.12715\n"
          ]
        },
        {
          "name": "stderr",
          "output_type": "stream",
          "text": [
            "19025it [01:05, 289.11it/s]                           \n",
            "100%|██████████| 3170/3170 [00:09<00:00, 323.51it/s]\n"
          ]
        },
        {
          "name": "stdout",
          "output_type": "stream",
          "text": [
            "epoch: 2/20, train loss: 0.28062, val loss: 0.09969\n"
          ]
        },
        {
          "name": "stderr",
          "output_type": "stream",
          "text": [
            "19025it [01:03, 299.94it/s]                           \n",
            "100%|██████████| 3170/3170 [00:09<00:00, 338.77it/s]\n"
          ]
        },
        {
          "name": "stdout",
          "output_type": "stream",
          "text": [
            "epoch: 3/20, train loss: 0.24105, val loss: 0.08446\n"
          ]
        },
        {
          "name": "stderr",
          "output_type": "stream",
          "text": [
            "19025it [01:05, 289.79it/s]                           \n",
            "100%|██████████| 3170/3170 [00:09<00:00, 331.25it/s]\n"
          ]
        },
        {
          "name": "stdout",
          "output_type": "stream",
          "text": [
            "epoch: 4/20, train loss: 0.22172, val loss: 0.07777\n"
          ]
        },
        {
          "name": "stderr",
          "output_type": "stream",
          "text": [
            "19025it [01:04, 292.87it/s]                           \n",
            "100%|██████████| 3170/3170 [00:09<00:00, 341.85it/s]\n"
          ]
        },
        {
          "name": "stdout",
          "output_type": "stream",
          "text": [
            "epoch: 5/20, train loss: 0.21060, val loss: 0.07275\n"
          ]
        },
        {
          "name": "stderr",
          "output_type": "stream",
          "text": [
            "19025it [01:04, 293.80it/s]                           \n",
            "100%|██████████| 3170/3170 [00:10<00:00, 313.85it/s]\n"
          ]
        },
        {
          "name": "stdout",
          "output_type": "stream",
          "text": [
            "epoch: 6/20, train loss: 0.20301, val loss: 0.07012\n"
          ]
        },
        {
          "name": "stderr",
          "output_type": "stream",
          "text": [
            "19025it [01:07, 280.31it/s]                           \n",
            "100%|██████████| 3170/3170 [00:11<00:00, 278.40it/s]\n"
          ]
        },
        {
          "name": "stdout",
          "output_type": "stream",
          "text": [
            "epoch: 7/20, train loss: 0.19836, val loss: 0.06857\n"
          ]
        },
        {
          "name": "stderr",
          "output_type": "stream",
          "text": [
            "19025it [01:07, 283.23it/s]                           \n",
            "100%|██████████| 3170/3170 [00:10<00:00, 313.21it/s]\n"
          ]
        },
        {
          "name": "stdout",
          "output_type": "stream",
          "text": [
            "epoch: 8/20, train loss: 0.19509, val loss: 0.06750\n"
          ]
        },
        {
          "name": "stderr",
          "output_type": "stream",
          "text": [
            "19025it [01:05, 288.64it/s]                           \n",
            "100%|██████████| 3170/3170 [00:09<00:00, 341.61it/s]\n"
          ]
        },
        {
          "name": "stdout",
          "output_type": "stream",
          "text": [
            "epoch: 9/20, train loss: 0.19306, val loss: 0.06717\n"
          ]
        },
        {
          "name": "stderr",
          "output_type": "stream",
          "text": [
            "19025it [01:03, 298.28it/s]                           \n",
            "100%|██████████| 3170/3170 [00:09<00:00, 336.76it/s]\n"
          ]
        },
        {
          "name": "stdout",
          "output_type": "stream",
          "text": [
            "epoch: 10/20, train loss: 0.19184, val loss: 0.06678\n"
          ]
        },
        {
          "name": "stderr",
          "output_type": "stream",
          "text": [
            "19025it [01:03, 301.91it/s]                           \n",
            "100%|██████████| 3170/3170 [00:09<00:00, 344.57it/s]\n"
          ]
        },
        {
          "name": "stdout",
          "output_type": "stream",
          "text": [
            "epoch: 11/20, train loss: 0.19124, val loss: 0.06643\n"
          ]
        },
        {
          "name": "stderr",
          "output_type": "stream",
          "text": [
            "19025it [01:03, 300.87it/s]                           \n",
            "100%|██████████| 3170/3170 [00:10<00:00, 297.14it/s]\n"
          ]
        },
        {
          "name": "stdout",
          "output_type": "stream",
          "text": [
            "epoch: 12/20, train loss: 0.19003, val loss: 0.06635\n"
          ]
        },
        {
          "name": "stderr",
          "output_type": "stream",
          "text": [
            "19025it [01:02, 303.50it/s]                           \n",
            "100%|██████████| 3170/3170 [00:09<00:00, 318.95it/s]\n"
          ]
        },
        {
          "name": "stdout",
          "output_type": "stream",
          "text": [
            "epoch: 13/20, train loss: 0.18926, val loss: 0.06602\n"
          ]
        },
        {
          "name": "stderr",
          "output_type": "stream",
          "text": [
            "19025it [01:06, 288.19it/s]                           \n",
            "100%|██████████| 3170/3170 [00:10<00:00, 288.20it/s]\n"
          ]
        },
        {
          "name": "stdout",
          "output_type": "stream",
          "text": [
            "epoch: 14/20, train loss: 0.18867, val loss: 0.06567\n"
          ]
        },
        {
          "name": "stderr",
          "output_type": "stream",
          "text": [
            "19025it [01:05, 289.93it/s]                           \n",
            "100%|██████████| 3170/3170 [00:09<00:00, 321.12it/s]\n"
          ]
        },
        {
          "name": "stdout",
          "output_type": "stream",
          "text": [
            "epoch: 15/20, train loss: 0.18876, val loss: 0.06535\n"
          ]
        },
        {
          "name": "stderr",
          "output_type": "stream",
          "text": [
            "19025it [01:06, 287.94it/s]                           \n",
            "100%|██████████| 3170/3170 [00:09<00:00, 320.75it/s]\n"
          ]
        },
        {
          "name": "stdout",
          "output_type": "stream",
          "text": [
            "epoch: 16/20, train loss: 0.18763, val loss: 0.06511\n"
          ]
        },
        {
          "name": "stderr",
          "output_type": "stream",
          "text": [
            "19025it [01:06, 285.25it/s]                           \n",
            "100%|██████████| 3170/3170 [00:09<00:00, 322.14it/s]\n"
          ]
        },
        {
          "name": "stdout",
          "output_type": "stream",
          "text": [
            "epoch: 17/20, train loss: 0.18757, val loss: 0.06507\n"
          ]
        },
        {
          "name": "stderr",
          "output_type": "stream",
          "text": [
            "19025it [01:07, 283.56it/s]                           \n",
            "100%|██████████| 3170/3170 [00:09<00:00, 320.31it/s]\n"
          ]
        },
        {
          "name": "stdout",
          "output_type": "stream",
          "text": [
            "epoch: 18/20, train loss: 0.18774, val loss: 0.06487\n"
          ]
        },
        {
          "name": "stderr",
          "output_type": "stream",
          "text": [
            "19025it [01:06, 287.83it/s]                           \n",
            "  0%|          | 0/3170 [00:00<?, ?it/s]"
          ]
        },
        {
          "ename": "",
          "evalue": "",
          "output_type": "error",
          "traceback": [
            "\u001b[1;31mThe Kernel crashed while executing code in the current cell or a previous cell. \n",
            "\u001b[1;31mPlease review the code in the cell(s) to identify a possible cause of the failure. \n",
            "\u001b[1;31mClick <a href='https://aka.ms/vscodeJupyterKernelCrash'>here</a> for more info. \n",
            "\u001b[1;31mView Jupyter <a href='command:jupyter.viewOutput'>log</a> for further details."
          ]
        }
      ],
      "source": [
        "# train\n",
        "torch.cuda.empty_cache()\n",
        "\n",
        "model.to(device)\n",
        "loss_fn = nn.MSELoss()\n",
        "loss_fn_no_reduction = nn.MSELoss(reduction='none')\n",
        "lr = 0.00001\n",
        "beta1 = 0.9\n",
        "beta2 = 0.999\n",
        "weight_decay = 0.001\n",
        "optim = torch.optim.Adam(model.parameters(), lr=lr, betas=(beta1,beta2), weight_decay=weight_decay)\n",
        "epochs = 20\n",
        "train_loss = -1\n",
        "\n",
        "reconstruction_l2 = 0.0\n",
        "\n",
        "historical_loss = []\n",
        "historical_val_loss = []\n",
        "historical_reconstruction = []\n",
        "\n",
        "train_start_time = time.time()\n",
        "for epoch in range(epochs):\n",
        "  epoch_loss = 0.0\n",
        "  epoch_val_loss = 0.0\n",
        "\n",
        "  model.train()\n",
        "  epoch_samples = 0\n",
        "  DS_ARROW.mode(0)\n",
        "  for x, _ in tqdm(DS_ARROW, total=DS_ARROW.num_iterations()):\n",
        "    x = x.to(device)\n",
        "    batch_size = x.size()[0]\n",
        "    if batch_size == 0: continue\n",
        "    epoch_samples += batch_size\n",
        "\n",
        "    optim.zero_grad()\n",
        "    out = model(x)\n",
        "    loss = loss_fn(out, x)\n",
        "    loss.backward()\n",
        "    optim.step()\n",
        "    epoch_loss += loss.item() * batch_size\n",
        "\n",
        "  epoch_loss = epoch_loss / epoch_samples\n",
        "\n",
        "  epoch_l2s = []\n",
        "\n",
        "  model.eval()\n",
        "  epoch_val_samples = 0\n",
        "  DS_ARROW.mode(1)\n",
        "  with torch.no_grad():\n",
        "    for x, _ in tqdm(DS_ARROW, total=DS_ARROW.num_iterations()):\n",
        "      x = x.to(device)\n",
        "      batch_size = x.size()[0]\n",
        "      if batch_size == 0: continue\n",
        "      epoch_val_samples += batch_size\n",
        "\n",
        "      out = model(x)\n",
        "      loss = loss_fn(out, x)\n",
        "      epoch_val_loss += loss.item() * batch_size\n",
        "\n",
        "  epoch_val_loss = epoch_val_loss / epoch_val_samples\n",
        "  historical_val_loss.append(epoch_val_loss)\n",
        "  historical_loss.append(epoch_loss)\n",
        "\n",
        "  print(f'epoch: {epoch + 1}/{epochs}, train loss: {epoch_loss:.5f}, val loss: {epoch_val_loss:.5f}')\n",
        "  train_loss = epoch_loss\n",
        "min, sec = divmod(int(time.time() - train_start_time), 60)\n",
        "print(f'train time: {min}:{sec}')"
      ]
    },
    {
      "cell_type": "code",
      "execution_count": null,
      "metadata": {},
      "outputs": [],
      "source": [
        "for name, module in model.named_modules():\n",
        "    if isinstance(module, torch.nn.Linear):\n",
        "        print(f\"{name}: original weight: {torch.sum(module.weight == 0).item()}\")\n",
        "        module = prune.l1_unstructured(module, name='weight', amount=0.2)\n",
        "        prune.remove(module, 'weight')\n",
        "\n",
        "for name, module in model.named_modules():\n",
        "    if isinstance(module, torch.nn.Linear):\n",
        "        print(f\"{name}: Pruned weights: {torch.sum(module.weight == 0).item()} zeros\")"
      ]
    },
    {
      "cell_type": "code",
      "execution_count": 38,
      "metadata": {},
      "outputs": [
        {
          "name": "stderr",
          "output_type": "stream",
          "text": [
            "100%|██████████| 3170/3170 [00:09<00:00, 319.52it/s]\n"
          ]
        },
        {
          "name": "stdout",
          "output_type": "stream",
          "text": [
            "search: 1/80, threshold: 1, percision: [0.99999131 0.30338551], recall: [0.19179582 0.99999527], fscore: [0.32185974 0.46553406], fscore weighted sum: 0.7873938050256828\n"
          ]
        },
        {
          "name": "stderr",
          "output_type": "stream",
          "text": [
            "100%|██████████| 3170/3170 [00:10<00:00, 296.93it/s]\n"
          ]
        },
        {
          "name": "stdout",
          "output_type": "stream",
          "text": [
            "search: 2/80, threshold: 2, percision: [0.99969709 0.35778203], recall: [0.36838611 0.99968288], fscore: [0.5383803  0.52696547], fscore weighted sum: 1.0653457712458527\n"
          ]
        },
        {
          "name": "stderr",
          "output_type": "stream",
          "text": [
            "100%|██████████| 3170/3170 [00:09<00:00, 325.68it/s]\n"
          ]
        },
        {
          "name": "stdout",
          "output_type": "stream",
          "text": [
            "search: 3/80, threshold: 3, percision: [0.76157407 0.277863  ], recall: [0.45730351 0.59325672], fscore: [0.57146099 0.37846484], fscore weighted sum: 0.9499258305427393\n"
          ]
        },
        {
          "name": "stderr",
          "output_type": "stream",
          "text": [
            "100%|██████████| 3170/3170 [00:10<00:00, 291.62it/s]\n"
          ]
        },
        {
          "name": "stdout",
          "output_type": "stream",
          "text": [
            "search: 4/80, threshold: 4, percision: [0.60972024 0.0518149 ], recall: [0.50788223 0.07640207], fscore: [0.5541614  0.06175104], fscore weighted sum: 0.61591244362697\n"
          ]
        },
        {
          "name": "stderr",
          "output_type": "stream",
          "text": [
            "100%|██████████| 3170/3170 [00:09<00:00, 321.98it/s]\n"
          ]
        },
        {
          "name": "stdout",
          "output_type": "stream",
          "text": [
            "search: 5/80, threshold: 5, percision: [0.62465224 0.05489647], recall: [0.54144783 0.0756708 ], fscore: [0.5800816  0.06363095], fscore weighted sum: 0.6437125584898628\n"
          ]
        },
        {
          "name": "stderr",
          "output_type": "stream",
          "text": [
            "100%|██████████| 3170/3170 [00:10<00:00, 312.39it/s]\n"
          ]
        },
        {
          "name": "stdout",
          "output_type": "stream",
          "text": [
            "search: 6/80, threshold: 6, percision: [0.63397924 0.05749661], recall: [0.56355306 0.0756424 ], fscore: [0.59669529 0.06533294], fscore weighted sum: 0.6620282364504402\n"
          ]
        },
        {
          "name": "stderr",
          "output_type": "stream",
          "text": [
            "100%|██████████| 3170/3170 [00:10<00:00, 308.77it/s]\n"
          ]
        },
        {
          "name": "stdout",
          "output_type": "stream",
          "text": [
            "search: 7/80, threshold: 7, percision: [0.64003174 0.05940962], recall: [0.57850369 0.0756353 ], fscore: [0.60771433 0.0665477 ], fscore weighted sum: 0.6742620348015846\n"
          ]
        },
        {
          "name": "stderr",
          "output_type": "stream",
          "text": [
            "100%|██████████| 3170/3170 [00:09<00:00, 333.30it/s]\n"
          ]
        },
        {
          "name": "stdout",
          "output_type": "stream",
          "text": [
            "search: 8/80, threshold: 8, percision: [0.64422841 0.06085286], recall: [0.58917021 0.0756282 ], fscore: [0.61547043 0.06744075], fscore weighted sum: 0.6829111750256465\n"
          ]
        },
        {
          "name": "stderr",
          "output_type": "stream",
          "text": [
            "100%|██████████| 3170/3170 [00:09<00:00, 327.69it/s]\n"
          ]
        },
        {
          "name": "stdout",
          "output_type": "stream",
          "text": [
            "search: 9/80, threshold: 9, percision: [0.64718528 0.06193647], recall: [0.59683628 0.07562584], fscore: [0.6209919  0.06810001], fscore weighted sum: 0.6890919126959428\n"
          ]
        },
        {
          "name": "stderr",
          "output_type": "stream",
          "text": [
            "100%|██████████| 3170/3170 [00:09<00:00, 317.89it/s]\n"
          ]
        },
        {
          "name": "stdout",
          "output_type": "stream",
          "text": [
            "search: 10/80, threshold: 10, percision: [0.64924953 0.0627125 ], recall: [0.60227908 0.07560217], fscore: [0.62488289 0.06855674], fscore weighted sum: 0.6934396303845001\n"
          ]
        },
        {
          "name": "stderr",
          "output_type": "stream",
          "text": [
            "100%|██████████| 3170/3170 [00:09<00:00, 333.15it/s]\n"
          ]
        },
        {
          "name": "stdout",
          "output_type": "stream",
          "text": [
            "search: 11/80, threshold: 11, percision: [0.65180479 0.06096519], recall: [0.6117111  0.07161925], fscore: [0.63112182 0.06586416], fscore weighted sum: 0.6969859798106562\n"
          ]
        },
        {
          "name": "stderr",
          "output_type": "stream",
          "text": [
            "100%|██████████| 3170/3170 [00:09<00:00, 330.16it/s]\n"
          ]
        },
        {
          "name": "stdout",
          "output_type": "stream",
          "text": [
            "search: 12/80, threshold: 12, percision: [0.6592673  0.04324529], recall: [0.65047293 0.0448842 ], fscore: [0.65484059 0.04404951], fscore weighted sum: 0.6988900999499904\n"
          ]
        },
        {
          "name": "stderr",
          "output_type": "stream",
          "text": [
            "100%|██████████| 3170/3170 [00:09<00:00, 324.18it/s]\n"
          ]
        },
        {
          "name": "stdout",
          "output_type": "stream",
          "text": [
            "search: 13/80, threshold: 13, percision: [0.67759327 0.01463614], recall: [0.73137357 0.01133583], fscore: [0.70345702 0.0127763 ], fscore weighted sum: 0.7162333202028727\n"
          ]
        },
        {
          "name": "stderr",
          "output_type": "stream",
          "text": [
            "100%|██████████| 3170/3170 [00:10<00:00, 309.19it/s]\n"
          ]
        },
        {
          "name": "stdout",
          "output_type": "stream",
          "text": [
            "search: 14/80, threshold: 14, percision: [0.700453   0.00130785], recall: [8.22531727e-01 6.60270640e-04], fscore: [0.7565996  0.00087752], fscore weighted sum: 0.7574771203360202\n"
          ]
        },
        {
          "name": "stderr",
          "output_type": "stream",
          "text": [
            "100%|██████████| 3170/3170 [00:09<00:00, 331.02it/s]\n"
          ]
        },
        {
          "name": "stdout",
          "output_type": "stream",
          "text": [
            "search: 15/80, threshold: 15, percision: [0.7195885  0.00075572], recall: [9.03074174e-01 2.08257406e-04], fscore: [8.00957342e-01 3.26530612e-04], fscore weighted sum: 0.8012838728092558\n"
          ]
        },
        {
          "name": "stderr",
          "output_type": "stream",
          "text": [
            "100%|██████████| 3170/3170 [00:10<00:00, 312.60it/s]\n"
          ]
        },
        {
          "name": "stdout",
          "output_type": "stream",
          "text": [
            "search: 16/80, threshold: 16, percision: [0.73013247 0.00135546], recall: [9.52130181e-01 1.84591792e-04], fscore: [8.26483498e-01 3.24932983e-04], fscore weighted sum: 0.8268084312303898\n"
          ]
        },
        {
          "name": "stderr",
          "output_type": "stream",
          "text": [
            "100%|██████████| 3170/3170 [00:09<00:00, 329.03it/s]\n"
          ]
        },
        {
          "name": "stdout",
          "output_type": "stream",
          "text": [
            "search: 17/80, threshold: 17, percision: [0.73450036 0.00260932], recall: [9.73572348e-01 1.96424599e-04], fscore: [8.37305384e-01 3.65346650e-04], fscore weighted sum: 0.8376707306166319\n"
          ]
        },
        {
          "name": "stderr",
          "output_type": "stream",
          "text": [
            "100%|██████████| 3170/3170 [00:09<00:00, 344.04it/s]\n"
          ]
        },
        {
          "name": "stdout",
          "output_type": "stream",
          "text": [
            "search: 18/80, threshold: 18, percision: [0.73585994 0.00284404], recall: [9.80432075e-01 1.58559616e-04], fscore: [8.40720209e-01 3.00373001e-04], fscore weighted sum: 0.841020581745894\n"
          ]
        },
        {
          "name": "stderr",
          "output_type": "stream",
          "text": [
            "100%|██████████| 3170/3170 [00:09<00:00, 317.90it/s]\n"
          ]
        },
        {
          "name": "stdout",
          "output_type": "stream",
          "text": [
            "search: 19/80, threshold: 19, percision: [0.73625461 0.00307227], recall: [9.82430434e-01 1.53826493e-04], fscore: [8.41712024e-01 2.92983496e-04], fscore weighted sum: 0.842005007652736\n"
          ]
        },
        {
          "name": "stderr",
          "output_type": "stream",
          "text": [
            "100%|██████████| 3170/3170 [00:09<00:00, 326.46it/s]\n"
          ]
        },
        {
          "name": "stdout",
          "output_type": "stream",
          "text": [
            "search: 20/80, threshold: 1.1, percision: [0.99998419 0.30840815], recall: [0.21069401 0.99999053], fscore: [0.34805397 0.47142393], fscore weighted sum: 0.8194779080672858\n"
          ]
        },
        {
          "name": "stderr",
          "output_type": "stream",
          "text": [
            "100%|██████████| 3170/3170 [00:09<00:00, 331.75it/s]\n"
          ]
        },
        {
          "name": "stdout",
          "output_type": "stream",
          "text": [
            "search: 21/80, threshold: 1.2, percision: [0.99996014 0.31367957], recall: [0.22988625 0.99997397], fscore: [0.37383057 0.47755575], fscore weighted sum: 0.8513863241144928\n"
          ]
        },
        {
          "name": "stderr",
          "output_type": "stream",
          "text": [
            "100%|██████████| 3170/3170 [00:09<00:00, 320.98it/s]\n"
          ]
        },
        {
          "name": "stdout",
          "output_type": "stream",
          "text": [
            "search: 22/80, threshold: 1.2999999999999998, percision: [0.99987663 0.31933071], recall: [0.24978988 0.99991244], fscore: [0.39972114 0.4840696 ], fscore weighted sum: 0.883790734879479\n"
          ]
        },
        {
          "name": "stderr",
          "output_type": "stream",
          "text": [
            "100%|██████████| 3170/3170 [00:09<00:00, 319.93it/s]\n"
          ]
        },
        {
          "name": "stdout",
          "output_type": "stream",
          "text": [
            "search: 23/80, threshold: 1.4, percision: [0.99985539 0.32549889], recall: [0.27069309 0.99988877], fscore: [0.42604269 0.49112074], fscore weighted sum: 0.9171634365520993\n"
          ]
        },
        {
          "name": "stderr",
          "output_type": "stream",
          "text": [
            "100%|██████████| 3170/3170 [00:09<00:00, 327.27it/s]\n"
          ]
        },
        {
          "name": "stdout",
          "output_type": "stream",
          "text": [
            "search: 24/80, threshold: 1.5, percision: [0.99983127 0.33179489], recall: [0.29123063 0.99986037], fscore: [0.45107286 0.49824991], fscore weighted sum: 0.9493227689323986\n"
          ]
        },
        {
          "name": "stderr",
          "output_type": "stream",
          "text": [
            "100%|██████████| 3170/3170 [00:09<00:00, 342.90it/s]\n"
          ]
        },
        {
          "name": "stdout",
          "output_type": "stream",
          "text": [
            "search: 25/80, threshold: 1.6, percision: [0.99976363 0.33777392], recall: [0.31005385 0.99979174], fscore: [0.47331872 0.50495252], fscore weighted sum: 0.9782712367887758\n"
          ]
        },
        {
          "name": "stderr",
          "output_type": "stream",
          "text": [
            "100%|██████████| 3170/3170 [00:09<00:00, 319.41it/s]\n"
          ]
        },
        {
          "name": "stdout",
          "output_type": "stream",
          "text": [
            "search: 26/80, threshold: 1.7, percision: [0.99975013 0.34322576], recall: [0.32661882 0.99976808], fscore: [0.49237765 0.51101673], fscore weighted sum: 1.0033943796437013\n"
          ]
        },
        {
          "name": "stderr",
          "output_type": "stream",
          "text": [
            "100%|██████████| 3170/3170 [00:09<00:00, 340.48it/s]\n"
          ]
        },
        {
          "name": "stdout",
          "output_type": "stream",
          "text": [
            "search: 27/80, threshold: 1.8, percision: [0.99972994 0.34854487], recall: [0.34228583 0.99973731], fscore: [0.50996925 0.51688484], fscore weighted sum: 1.02685409015877\n"
          ]
        },
        {
          "name": "stderr",
          "output_type": "stream",
          "text": [
            "100%|██████████| 3170/3170 [00:09<00:00, 345.53it/s]\n"
          ]
        },
        {
          "name": "stdout",
          "output_type": "stream",
          "text": [
            "search: 28/80, threshold: 1.9, percision: [0.99969629 0.35349437], recall: [0.35645093 0.99969235], fscore: [0.52552211 0.52230133], fscore weighted sum: 1.0478234459710913\n"
          ]
        },
        {
          "name": "stderr",
          "output_type": "stream",
          "text": [
            "100%|██████████| 3170/3170 [00:08<00:00, 358.70it/s]\n"
          ]
        },
        {
          "name": "stdout",
          "output_type": "stream",
          "text": [
            "search: 29/80, threshold: 2.0, percision: [0.99970418 0.35792341], recall: [0.36877012 0.99968998], fscore: [0.53879131 0.5271198 ], fscore weighted sum: 1.0659111097715745\n"
          ]
        },
        {
          "name": "stderr",
          "output_type": "stream",
          "text": [
            "100%|██████████| 3170/3170 [00:09<00:00, 330.65it/s]\n"
          ]
        },
        {
          "name": "stdout",
          "output_type": "stream",
          "text": [
            "search: 30/80, threshold: 2.1, percision: [0.99969565 0.3621742 ], recall: [0.38032045 0.99967105], fscore: [0.55101488 0.53171249], fscore weighted sum: 1.0827273689793224\n"
          ]
        },
        {
          "name": "stderr",
          "output_type": "stream",
          "text": [
            "100%|██████████| 3170/3170 [00:10<00:00, 305.95it/s]\n"
          ]
        },
        {
          "name": "stdout",
          "output_type": "stream",
          "text": [
            "search: 31/80, threshold: 2.2, percision: [0.99967684 0.36645209], recall: [0.39168086 0.99964028], fscore: [0.5628377  0.53630381], fscore weighted sum: 1.0991415162196476\n"
          ]
        },
        {
          "name": "stderr",
          "output_type": "stream",
          "text": [
            "100%|██████████| 3170/3170 [00:10<00:00, 295.87it/s]\n"
          ]
        },
        {
          "name": "stdout",
          "output_type": "stream",
          "text": [
            "search: 32/80, threshold: 2.3, percision: [0.99923269 0.37006676], recall: [0.40136861 0.99912437], fscore: [0.5726978  0.54008927], fscore weighted sum: 1.1127870639320512\n"
          ]
        },
        {
          "name": "stderr",
          "output_type": "stream",
          "text": [
            "100%|██████████| 3170/3170 [00:10<00:00, 294.24it/s]\n"
          ]
        },
        {
          "name": "stdout",
          "output_type": "stream",
          "text": [
            "search: 33/80, threshold: 2.4, percision: [0.99545518 0.37269164], recall: [0.41069901 0.99467287], fscore: [0.58149022 0.54222011], fscore weighted sum: 1.1237103286721812\n"
          ]
        },
        {
          "name": "stderr",
          "output_type": "stream",
          "text": [
            "100%|██████████| 3170/3170 [00:10<00:00, 304.98it/s]\n"
          ]
        },
        {
          "name": "stdout",
          "output_type": "stream",
          "text": [
            "search: 34/80, threshold: 2.5, percision: [0.98194465 0.37235011], recall: [0.41968454 0.97807617], fscore: [0.58803997 0.53936564], fscore weighted sum: 1.1274056074290932\n"
          ]
        },
        {
          "name": "stderr",
          "output_type": "stream",
          "text": [
            "100%|██████████| 3170/3170 [00:10<00:00, 313.10it/s]\n"
          ]
        },
        {
          "name": "stdout",
          "output_type": "stream",
          "text": [
            "search: 35/80, threshold: 2.6, percision: [0.9543581  0.36690741], recall: [0.42797036 0.94185122], fscore: [0.59094056 0.52809156], fscore weighted sum: 1.1190321220363955\n"
          ]
        },
        {
          "name": "stderr",
          "output_type": "stream",
          "text": [
            "100%|██████████| 3170/3170 [00:10<00:00, 290.41it/s]\n"
          ]
        },
        {
          "name": "stdout",
          "output_type": "stream",
          "text": [
            "search: 36/80, threshold: 2.7, percision: [0.91323414 0.35508209], recall: [0.43592965 0.8823322 ], fscore: [0.59015197 0.50637909], fscore weighted sum: 1.0965310654704141\n"
          ]
        },
        {
          "name": "stderr",
          "output_type": "stream",
          "text": [
            "100%|██████████| 3170/3170 [00:10<00:00, 314.58it/s]\n"
          ]
        },
        {
          "name": "stdout",
          "output_type": "stream",
          "text": [
            "search: 37/80, threshold: 2.8, percision: [0.86395627 0.33637311], recall: [0.44328167 0.80169162], fscore: [0.58593156 0.47390539], fscore weighted sum: 1.0598369478366\n"
          ]
        },
        {
          "name": "stderr",
          "output_type": "stream",
          "text": [
            "100%|██████████| 3170/3170 [00:10<00:00, 288.96it/s]\n"
          ]
        },
        {
          "name": "stdout",
          "output_type": "stream",
          "text": [
            "search: 38/80, threshold: 2.9, percision: [0.81265892 0.3110783 ], recall: [0.45045627 0.70497972], fscore: [0.57962617 0.43167592], fscore weighted sum: 1.0113020897283687\n"
          ]
        },
        {
          "name": "stderr",
          "output_type": "stream",
          "text": [
            "100%|██████████| 3170/3170 [00:09<00:00, 328.97it/s]\n"
          ]
        },
        {
          "name": "stdout",
          "output_type": "stream",
          "text": [
            "search: 39/80, threshold: 2.41, percision: [0.99486279 0.37297716], recall: [0.41184105 0.99395817], fscore: [0.58253247 0.54241585], fscore weighted sum: 1.1249483236379405\n"
          ]
        },
        {
          "name": "stderr",
          "output_type": "stream",
          "text": [
            "100%|██████████| 3170/3170 [00:10<00:00, 303.98it/s]\n"
          ]
        },
        {
          "name": "stdout",
          "output_type": "stream",
          "text": [
            "search: 40/80, threshold: 2.42, percision: [0.99363873 0.37308666], recall: [0.41298558 0.99248853], fscore: [0.58346563 0.54231248], fscore weighted sum: 1.125778108545592\n"
          ]
        },
        {
          "name": "stderr",
          "output_type": "stream",
          "text": [
            "100%|██████████| 3170/3170 [00:10<00:00, 301.17it/s]\n"
          ]
        },
        {
          "name": "stdout",
          "output_type": "stream",
          "text": [
            "search: 41/80, threshold: 2.43, percision: [0.99264944 0.37293016], recall: [0.41329296 0.99130525], fscore: [0.58360147 0.54197043], fscore weighted sum: 1.1255718968865454\n"
          ]
        },
        {
          "name": "stderr",
          "output_type": "stream",
          "text": [
            "100%|██████████| 3170/3170 [00:10<00:00, 304.82it/s]\n"
          ]
        },
        {
          "name": "stdout",
          "output_type": "stream",
          "text": [
            "search: 42/80, threshold: 2.44, percision: [0.99155532 0.37314039], recall: [0.41461076 0.98996815], fscore: [0.58472397 0.5419922 ], fscore weighted sum: 1.1267161698484687\n"
          ]
        },
        {
          "name": "stderr",
          "output_type": "stream",
          "text": [
            "100%|██████████| 3170/3170 [00:11<00:00, 266.49it/s]\n"
          ]
        },
        {
          "name": "stdout",
          "output_type": "stream",
          "text": [
            "search: 43/80, threshold: 2.45, percision: [0.99045937 0.3730868 ], recall: [0.41526466 0.98863577], fscore: [0.58518282 0.54173583], fscore weighted sum: 1.1269186488092784\n"
          ]
        },
        {
          "name": "stderr",
          "output_type": "stream",
          "text": [
            "100%|██████████| 3170/3170 [00:10<00:00, 291.36it/s]\n"
          ]
        },
        {
          "name": "stdout",
          "output_type": "stream",
          "text": [
            "search: 44/80, threshold: 2.46, percision: [0.98901199 0.37318697], recall: [0.41656997 0.98685138], fscore: [0.58622365 0.54157308], fscore weighted sum: 1.127796727606896\n"
          ]
        },
        {
          "name": "stderr",
          "output_type": "stream",
          "text": [
            "100%|██████████| 3170/3170 [00:09<00:00, 324.74it/s]\n"
          ]
        },
        {
          "name": "stdout",
          "output_type": "stream",
          "text": [
            "search: 45/80, threshold: 2.47, percision: [0.98754079 0.3729122 ], recall: [0.41694732 0.98505516], fscore: [0.58633816 0.54101313], fscore weighted sum: 1.127351283739432\n"
          ]
        },
        {
          "name": "stderr",
          "output_type": "stream",
          "text": [
            "100%|██████████| 3170/3170 [00:10<00:00, 310.77it/s]\n"
          ]
        },
        {
          "name": "stdout",
          "output_type": "stream",
          "text": [
            "search: 46/80, threshold: 2.48, percision: [0.98598433 0.3727122 ], recall: [0.41758539 0.98313588], fscore: [0.58669355 0.54051297], fscore weighted sum: 1.1272065244130425\n"
          ]
        },
        {
          "name": "stderr",
          "output_type": "stream",
          "text": [
            "100%|██████████| 3170/3170 [00:11<00:00, 274.25it/s]\n"
          ]
        },
        {
          "name": "stdout",
          "output_type": "stream",
          "text": [
            "search: 47/80, threshold: 2.49, percision: [0.98387706 0.3726158 ], recall: [0.41890902 0.98049717], fscore: [0.58762342 0.54001217], fscore weighted sum: 1.1276355947660224\n"
          ]
        },
        {
          "name": "stderr",
          "output_type": "stream",
          "text": [
            "  0%|          | 0/3170 [00:02<?, ?it/s]\n"
          ]
        },
        {
          "ename": "KeyboardInterrupt",
          "evalue": "",
          "output_type": "error",
          "traceback": [
            "\u001b[31m---------------------------------------------------------------------------\u001b[39m",
            "\u001b[31mKeyboardInterrupt\u001b[39m                         Traceback (most recent call last)",
            "\u001b[36mCell\u001b[39m\u001b[36m \u001b[39m\u001b[32mIn[38]\u001b[39m\u001b[32m, line 28\u001b[39m\n\u001b[32m     26\u001b[39m test_loss = \u001b[32m0.0\u001b[39m\n\u001b[32m     27\u001b[39m \u001b[38;5;28;01mwith\u001b[39;00m torch.no_grad():\n\u001b[32m---> \u001b[39m\u001b[32m28\u001b[39m \u001b[43m    \u001b[49m\u001b[38;5;28;43;01mfor\u001b[39;49;00m\u001b[43m \u001b[49m\u001b[43mx\u001b[49m\u001b[43m,\u001b[49m\u001b[43m \u001b[49m\u001b[43my\u001b[49m\u001b[43m \u001b[49m\u001b[38;5;129;43;01min\u001b[39;49;00m\u001b[43m \u001b[49m\u001b[43mtqdm\u001b[49m\u001b[43m(\u001b[49m\u001b[43mDS_ARROW\u001b[49m\u001b[43m,\u001b[49m\u001b[43m \u001b[49m\u001b[43mtotal\u001b[49m\u001b[43m=\u001b[49m\u001b[43mDS_ARROW\u001b[49m\u001b[43m.\u001b[49m\u001b[43mnum_iterations\u001b[49m\u001b[43m(\u001b[49m\u001b[43m)\u001b[49m\u001b[43m)\u001b[49m\u001b[43m:\u001b[49m\n\u001b[32m     29\u001b[39m \u001b[43m        \u001b[49m\u001b[43mx\u001b[49m\u001b[43m \u001b[49m\u001b[43m=\u001b[49m\u001b[43m \u001b[49m\u001b[43mx\u001b[49m\u001b[43m.\u001b[49m\u001b[43mto\u001b[49m\u001b[43m(\u001b[49m\u001b[43mdevice\u001b[49m\u001b[43m)\u001b[49m\n\u001b[32m     30\u001b[39m \u001b[43m        \u001b[49m\u001b[43my\u001b[49m\u001b[43m \u001b[49m\u001b[43m=\u001b[49m\u001b[43m \u001b[49m\u001b[43my\u001b[49m\u001b[43m.\u001b[49m\u001b[43mto\u001b[49m\u001b[43m(\u001b[49m\u001b[43mdevice\u001b[49m\u001b[43m)\u001b[49m\n",
            "\u001b[36mFile \u001b[39m\u001b[32mc:\\Users\\agizi\\ids-hackathon\\.venv\\Lib\\site-packages\\tqdm\\std.py:1181\u001b[39m, in \u001b[36mtqdm.__iter__\u001b[39m\u001b[34m(self)\u001b[39m\n\u001b[32m   1178\u001b[39m time = \u001b[38;5;28mself\u001b[39m._time\n\u001b[32m   1180\u001b[39m \u001b[38;5;28;01mtry\u001b[39;00m:\n\u001b[32m-> \u001b[39m\u001b[32m1181\u001b[39m \u001b[43m    \u001b[49m\u001b[38;5;28;43;01mfor\u001b[39;49;00m\u001b[43m \u001b[49m\u001b[43mobj\u001b[49m\u001b[43m \u001b[49m\u001b[38;5;129;43;01min\u001b[39;49;00m\u001b[43m \u001b[49m\u001b[43miterable\u001b[49m\u001b[43m:\u001b[49m\n\u001b[32m   1182\u001b[39m \u001b[43m        \u001b[49m\u001b[38;5;28;43;01myield\u001b[39;49;00m\u001b[43m \u001b[49m\u001b[43mobj\u001b[49m\n\u001b[32m   1183\u001b[39m \u001b[43m        \u001b[49m\u001b[38;5;66;43;03m# Update and possibly print the progressbar.\u001b[39;49;00m\n\u001b[32m   1184\u001b[39m \u001b[43m        \u001b[49m\u001b[38;5;66;43;03m# Note: does not call self.update(1) for speed optimisation.\u001b[39;49;00m\n",
            "\u001b[36mCell\u001b[39m\u001b[36m \u001b[39m\u001b[32mIn[34]\u001b[39m\u001b[32m, line 24\u001b[39m, in \u001b[36mArrowParquetDataset.__iter__\u001b[39m\u001b[34m(self)\u001b[39m\n\u001b[32m     23\u001b[39m \u001b[38;5;28;01mdef\u001b[39;00m\u001b[38;5;250m \u001b[39m\u001b[34m__iter__\u001b[39m(\u001b[38;5;28mself\u001b[39m):\n\u001b[32m---> \u001b[39m\u001b[32m24\u001b[39m     batches = \u001b[38;5;28mlist\u001b[39m(\u001b[38;5;28mself\u001b[39m.scanner.to_batches())\n\u001b[32m     26\u001b[39m     num_batches = \u001b[38;5;28mlen\u001b[39m(batches)\n\u001b[32m     27\u001b[39m     batch_intervals = [\u001b[32m0\u001b[39m]\n",
            "\u001b[36mFile \u001b[39m\u001b[32mc:\\Users\\agizi\\ids-hackathon\\.venv\\Lib\\site-packages\\pyarrow\\_dataset.pyx:3904\u001b[39m, in \u001b[36m_iterator\u001b[39m\u001b[34m()\u001b[39m\n",
            "\u001b[36mFile \u001b[39m\u001b[32mc:\\Users\\agizi\\ids-hackathon\\.venv\\Lib\\site-packages\\pyarrow\\_dataset.pyx:3497\u001b[39m, in \u001b[36mpyarrow._dataset.TaggedRecordBatchIterator.__next__\u001b[39m\u001b[34m()\u001b[39m\n",
            "\u001b[36mFile \u001b[39m\u001b[32m<string>:1\u001b[39m, in \u001b[36m<lambda>\u001b[39m\u001b[34m(_cls, record_batch, fragment)\u001b[39m\n",
            "\u001b[31mKeyboardInterrupt\u001b[39m: "
          ]
        }
      ],
      "source": [
        "# threshold search\n",
        "search_start = 10\n",
        "search_depth = 4\n",
        "search_length = search_depth * 20\n",
        "search_counter = 0\n",
        "\n",
        "best_fscore = np.array([-1,-1])\n",
        "best_fscore_sum = -1\n",
        "best_threshold = -1\n",
        "best_percision = -1\n",
        "best_recall = -1\n",
        "\n",
        "historical_threshold = []\n",
        "historical_fscore = []\n",
        "\n",
        "threshold_search_start_time = time.time()\n",
        "for i in range(search_depth):\n",
        "    search_step = 10 ** (i * -1)\n",
        "    for j in range(-9,10):\n",
        "        search_counter += 1\n",
        "        threshold = j * search_step + search_start\n",
        "        y_pred_tensor = []\n",
        "        y_true_tensor = []\n",
        "\n",
        "        DS_ARROW.mode(2)\n",
        "        test_loss = 0.0\n",
        "        with torch.no_grad():\n",
        "            for x, y in tqdm(DS_ARROW, total=DS_ARROW.num_iterations()):\n",
        "                x = x.to(device)\n",
        "                y = y.to(device)\n",
        "\n",
        "                out = model(x)\n",
        "                reconstruction_losses = loss_fn_no_reduction(out, x)\n",
        "                l2_dists = torch.norm(reconstruction_losses, p=2, dim=1)\n",
        "                thresholded = (l2_dists > threshold).float()\n",
        "                y_pred_tensor.append(thresholded.bool())\n",
        "                y_true_tensor.append(y.bool())\n",
        "        \n",
        "        y_pred = torch.cat(y_pred_tensor).tolist()\n",
        "        y_true = torch.cat(y_true_tensor).tolist()\n",
        "\n",
        "        percision, recall, fscore, support = precision_recall_fscore_support(y_true, y_pred)\n",
        "        curr_weighted_sum = fscore[0] + 1 * fscore[1]\n",
        "        historical_fscore.append(curr_weighted_sum)\n",
        "        historical_threshold.append(threshold)\n",
        "        print(f\"search: {search_counter}/{search_length}, threshold: {threshold}, percision: {percision}, recall: {recall}, fscore: {fscore}, fscore weighted sum: {curr_weighted_sum}\")\n",
        "        if best_fscore_sum < curr_weighted_sum:\n",
        "            best_threshold = threshold\n",
        "            best_fscore_sum = curr_weighted_sum\n",
        "            best_fscore = fscore\n",
        "            best_percision = percision\n",
        "            best_recall = recall\n",
        "    \n",
        "    search_start = best_threshold\n",
        "\n",
        "print(f\"best threshold: {best_threshold}, percision: {best_percision}, recall: {best_recall}, fscore: {best_fscore}, fscore weighted sum: {best_fscore_sum}\")\n",
        "min, sec = divmod(int(time.time() - threshold_search_start_time), 60)\n",
        "print(f'train time: {min}:{sec}')\n"
      ]
    },
    {
      "cell_type": "code",
      "execution_count": 40,
      "metadata": {
        "id": "6EHs6YqKrcE7"
      },
      "outputs": [
        {
          "name": "stderr",
          "output_type": "stream",
          "text": [
            "6344it [00:18, 335.71it/s]                          \n"
          ]
        },
        {
          "name": "stdout",
          "output_type": "stream",
          "text": [
            "test loss (accuracy): 0.66665\n",
            "percision: [0.98387706 0.3726158 ], recall: [0.41890902 0.98049717], fscore: [0.58762342 0.54001217]\n",
            "support: [1200485  422554]\n",
            "test time: 0:20\n"
          ]
        }
      ],
      "source": [
        "# test\n",
        "model.eval()\n",
        "test_loss = 0.0\n",
        "test_start_time = time.time()\n",
        "\n",
        "historical_label_tensor = []\n",
        "historical_pred_tensor = []\n",
        "\n",
        "DS_ARROW.mode(3)\n",
        "epoch_samples = 0\n",
        "with torch.no_grad():\n",
        "  for x, y in tqdm(DS_ARROW, total=DS_ARROW.num_iterations()):\n",
        "    x = x.to(device)\n",
        "    y = y.to(device)\n",
        "    batch_size = x.size()[0]\n",
        "    epoch_samples += batch_size\n",
        "\n",
        "    out = model(x)\n",
        "    reconstruction_losses = loss_fn_no_reduction(out, x)\n",
        "    l2_dists = torch.norm(reconstruction_losses, p=2, dim=1)\n",
        "    thresholded = (l2_dists > best_threshold).half()\n",
        "    test_loss += torch.isclose(thresholded, y).half().sum().item()\n",
        "\n",
        "    historical_label_tensor.append(y.to(\"cpu\"))\n",
        "    historical_pred_tensor.append(thresholded.to(\"cpu\"))\n",
        "\n",
        "test_loss = test_loss / epoch_samples\n",
        "print(f'test loss (accuracy): {test_loss:.5f}')\n",
        "\n",
        "historical_pred = torch.cat(historical_pred_tensor).tolist()\n",
        "historical_label = torch.cat(historical_label_tensor).tolist()\n",
        "test_percision, test_recall, test_fscore, test_support = precision_recall_fscore_support(y_true, y_pred)\n",
        "print(f\"percision: {test_percision}, recall: {test_recall}, fscore: {test_fscore}\\nsupport: {test_support}\")\n",
        "\n",
        "min, sec = divmod(int(time.time() - test_start_time), 60)\n",
        "print(f'test time: {min}:{sec}')"
      ]
    },
    {
      "cell_type": "code",
      "execution_count": 41,
      "metadata": {},
      "outputs": [
        {
          "data": {
            "image/png": "[encoded data removed]",
            "text/plain": [
              "<Figure size 640x480 with 1 Axes>"
            ]
          },
          "metadata": {},
          "output_type": "display_data"
        },
        {
          "data": {
            "image/png": "[encoded data removed]",
            "text/plain": [
              "<Figure size 640x480 with 1 Axes>"
            ]
          },
          "metadata": {},
          "output_type": "display_data"
        },
        {
          "data": {
            "image/png": "[encoded data removed]",
            "text/plain": [
              "<Figure size 640x480 with 2 Axes>"
            ]
          },
          "metadata": {},
          "output_type": "display_data"
        },
        {
          "name": "stdout",
          "output_type": "stream",
          "text": [
            "tpr: 0.45810687043313747, fpr: 0.29992050633001843, tnr: 0.5418931295668625, fnr: 0.5418931295668625\n"
          ]
        }
      ],
      "source": [
        "# analyze\n",
        "\n",
        "with open(\"models/models.json\", \"r\") as file:\n",
        "    saved_models = json.load(file)\n",
        "model_name = f'model_{len(saved_models)}'\n",
        "color_list = ['red', 'orange', 'yellow', 'green', 'blue', 'purple']\n",
        "\n",
        "historical_pred = torch.cat(historical_pred_tensor).tolist()\n",
        "historical_label = torch.cat(historical_label_tensor).tolist()\n",
        "\n",
        "# epoch loss\n",
        "loss_plt, ax = plt.subplots()\n",
        "ax.plot(range(1, len(historical_loss) + 1), historical_loss, marker='o', color='blue', label=\"training loss\")\n",
        "ax.plot(range(1, len(historical_val_loss) + 1), historical_val_loss, marker='o', color='orange', label=\"validation loss\")\n",
        "ax.set_title(f'{model_name}: Loss by Epoch')\n",
        "ax.set_xlabel('Epoch')\n",
        "ax.set_ylabel('Loss')\n",
        "ax.legend()\n",
        "plt.show(loss_plt.number)\n",
        "\n",
        "# threshold search\n",
        "threshold_plt, ax = plt.subplots()\n",
        "thresh_sort, fscore_sort = zip(*sorted(zip(historical_threshold, historical_fscore)))\n",
        "ax.plot(thresh_sort, fscore_sort, color='blue')\n",
        "ax.plot(best_threshold, best_fscore_sum, color='red', marker='o', label=f'chosen threshold={best_threshold}')\n",
        "ax.set_title(f'{model_name}: threshold search')\n",
        "ax.set_xlabel('threshold')\n",
        "ax.set_ylabel('fscore')\n",
        "ax.legend()\n",
        "plt.show(threshold_plt.number)\n",
        "\n",
        "# confusion matrix\n",
        "tp = 0\n",
        "fp = 0\n",
        "fn = 0\n",
        "tn = 0\n",
        "for i in range(len(historical_label)):\n",
        "    if historical_label[i]:\n",
        "        if historical_pred[i]:\n",
        "            tp += 1\n",
        "        else:\n",
        "            fn += 1\n",
        "    else:\n",
        "        if historical_pred[i]:\n",
        "            fp += 1\n",
        "        else:\n",
        "            tn += 1\n",
        "tpr = tp / (tp + fn)\n",
        "fpr = fp / (tn + fp)\n",
        "tnr = tn / (tn + fp)\n",
        "fnr = fn / (tp + fn)\n",
        "\n",
        "conf_matrix = np.array([[tp, fp],[fn, tn]])\n",
        "classes = ['Intrusion (positive)','Benign (negative)']\n",
        "conf_plt, ax = plt.subplots()\n",
        "im = ax.imshow(conf_matrix, cmap='Blues')\n",
        "for i in range(2):\n",
        "    for j in range(2):\n",
        "        ax.text(j, i, conf_matrix[i, j], ha='center', va='center', color='black', fontsize=14)\n",
        "ax.set_xticks(np.arange(2))\n",
        "ax.set_yticks(np.arange(2))\n",
        "ax.set_xticklabels(['Actual ' + c for c in classes])\n",
        "ax.set_yticklabels(['Pred ' + c for c in classes])\n",
        "ax.set_title('Confusion Matrix', fontsize=16)\n",
        "ax.set_xlabel('Actual Label', fontsize=12)\n",
        "ax.set_ylabel('Predicted Label', fontsize=12)\n",
        "conf_plt.tight_layout()\n",
        "conf_plt.colorbar(im)\n",
        "plt.show(conf_plt.number)\n",
        "print(f\"tpr: {tpr}, fpr: {fpr}, tnr: {fnr}, fnr: {fnr}\")\n",
        "\n",
        "# chart, name\n",
        "charts = [(loss_plt, f\"charts/{model_name}-loss.jpg\"), \n",
        "          (conf_plt, f\"charts/{model_name}-conf.jpg\"),\n",
        "          (threshold_plt, f\"charts/{model_name}-threshold.jpg\"),\n",
        "         ]"
      ]
    },
    {
      "cell_type": "code",
      "execution_count": 42,
      "metadata": {},
      "outputs": [
        {
          "name": "stdout",
          "output_type": "stream",
          "text": [
            "{\n",
            "    \"path\": \"models/model_4.pth\",\n",
            "    \"lr\": 1e-05,\n",
            "    \"beta1\": 0.9,\n",
            "    \"beta2\": 0.999,\n",
            "    \"weight_decay\": 0.001,\n",
            "    \"epochs\": 20,\n",
            "    \"loss_fn\": \"MSELoss()\",\n",
            "    \"train_loss\": 0.16827212759678334,\n",
            "    \"val_loss\": 0.0,\n",
            "    \"test_loss\": 0.6666452156809374,\n",
            "    \"desc\": \"DNN(\\n  (input): Linear(in_features=136, out_features=68, bias=True)\\n  (output): Linear(in_features=68, out_features=136, bias=True)\\n  (dropout): Dropout(p=0.6, inplace=False)\\n  (hiddens): ModuleList()\\n)\",\n",
            "    \"acc\": 0.6666452156809374,\n",
            "    \"thresh\": 2.46,\n",
            "    \"percision\": [\n",
            "        0.9838770579201189,\n",
            "        0.37261580136414657\n",
            "    ],\n",
            "    \"recall\": [\n",
            "        0.4189090242693578,\n",
            "        0.980497167225964\n",
            "    ],\n",
            "    \"fscore\": [\n",
            "        0.5876234210864562,\n",
            "        0.5400121736795663\n",
            "    ],\n",
            "    \"tpr\": 0.45810687043313747,\n",
            "    \"fpr\": 0.29992050633001843,\n",
            "    \"tnr\": 0.7000794936699816,\n",
            "    \"fnr\": 0.5418931295668625,\n",
            "    \"charts\": [\n",
            "        \"charts/model_4-loss.jpg\",\n",
            "        \"charts/model_4-conf.jpg\",\n",
            "        \"charts/model_4-threshold.jpg\"\n",
            "    ]\n",
            "}\n"
          ]
        }
      ],
      "source": [
        "# review\n",
        "save_path = f\"models/{model_name}.pth\"\n",
        "model_object = {\n",
        "    \"path\": save_path,\n",
        "    \"lr\": float(lr),\n",
        "    \"beta1\": float(beta1),\n",
        "    \"beta2\": float(beta2),\n",
        "    \"weight_decay\": float(weight_decay),\n",
        "    \"epochs\": int(epochs),\n",
        "    \"loss_fn\": str(loss_fn.__str__()),\n",
        "    \"train_loss\": float(train_loss),\n",
        "    \"val_loss\": float(epoch_val_loss),\n",
        "    \"test_loss\": float(test_loss),\n",
        "    \"desc\": str(model_desc),\n",
        "    \"acc\": float(test_loss),\n",
        "    \"thresh\": float(best_threshold),\n",
        "    \"percision\": list(test_percision),\n",
        "    \"recall\": list(test_recall),\n",
        "    \"fscore\": list(test_fscore),\n",
        "    \"tpr\": float(tpr),\n",
        "    \"fpr\": float(fpr),\n",
        "    \"tnr\": float(tnr),\n",
        "    \"fnr\": float(fnr),\n",
        "    \"charts\": [name for _, name in charts],\n",
        "}\n",
        "json_str = json.dumps(model_object, indent=4)\n",
        "\n",
        "print(json_str)"
      ]
    },
    {
      "cell_type": "code",
      "execution_count": 43,
      "metadata": {},
      "outputs": [],
      "source": [
        "# save\n",
        "save = input(\"save (y/n): \")\n",
        "if save == \"y\":\n",
        "    torch.save(model.state_dict(), save_path)\n",
        "    notes = input(\"notes: \")\n",
        "    model_object['notes'] = notes\n",
        "\n",
        "    for chart, name in charts:\n",
        "        chart.savefig(name)\n",
        "\n",
        "    with open(\"models/models.json\", \"r\") as file:\n",
        "        saved_models = json.load(file)\n",
        "        saved_models.append(model_object)\n",
        "    with open(\"models/models.json\", \"w\") as file:\n",
        "        json.dump(saved_models, file, indent=4)"
      ]
    }
  ],
  "metadata": {
    "accelerator": "GPU",
    "colab": {
      "gpuType": "T4",
      "provenance": []
    },
    "kernelspec": {
      "display_name": ".venv",
      "language": "python",
      "name": "python3"
    },
    "language_info": {
      "codemirror_mode": {
        "name": "ipython",
        "version": 3
      },
      "file_extension": ".py",
      "mimetype": "text/x-python",
      "name": "python",
      "nbconvert_exporter": "python",
      "pygments_lexer": "ipython3",
      "version": "3.11.1"
    }
  },
  "nbformat": 4,
  "nbformat_minor": 0
}
