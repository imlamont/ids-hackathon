{
  "cells": [
    {
      "cell_type": "code",
      "execution_count": 65,
      "metadata": {
        "id": "KvVFcKywqi-2"
      },
      "outputs": [
        {
          "name": "stdout",
          "output_type": "stream",
          "text": [
            "Requirement already satisfied: pandas in c:\\users\\imlam\\desktop\\connectify\\ids-hackathon\\.venv\\lib\\site-packages (2.3.1)\n",
            "Requirement already satisfied: numpy>=1.26.0 in c:\\users\\imlam\\desktop\\connectify\\ids-hackathon\\.venv\\lib\\site-packages (from pandas) (2.3.1)\n",
            "Requirement already satisfied: python-dateutil>=2.8.2 in c:\\users\\imlam\\desktop\\connectify\\ids-hackathon\\.venv\\lib\\site-packages (from pandas) (2.9.0.post0)\n",
            "Requirement already satisfied: pytz>=2020.1 in c:\\users\\imlam\\desktop\\connectify\\ids-hackathon\\.venv\\lib\\site-packages (from pandas) (2025.2)\n",
            "Requirement already satisfied: tzdata>=2022.7 in c:\\users\\imlam\\desktop\\connectify\\ids-hackathon\\.venv\\lib\\site-packages (from pandas) (2025.2)\n",
            "Requirement already satisfied: six>=1.5 in c:\\users\\imlam\\desktop\\connectify\\ids-hackathon\\.venv\\lib\\site-packages (from python-dateutil>=2.8.2->pandas) (1.17.0)\n",
            "Looking in indexes: https://download.pytorch.org/whl/cu128\n",
            "Requirement already satisfied: torch in c:\\users\\imlam\\desktop\\connectify\\ids-hackathon\\.venv\\lib\\site-packages (2.7.1+cu128)\n",
            "Requirement already satisfied: filelock in c:\\users\\imlam\\desktop\\connectify\\ids-hackathon\\.venv\\lib\\site-packages (from torch) (3.13.1)\n",
            "Requirement already satisfied: typing-extensions>=4.10.0 in c:\\users\\imlam\\desktop\\connectify\\ids-hackathon\\.venv\\lib\\site-packages (from torch) (4.12.2)\n",
            "Requirement already satisfied: sympy>=1.13.3 in c:\\users\\imlam\\desktop\\connectify\\ids-hackathon\\.venv\\lib\\site-packages (from torch) (1.13.3)\n",
            "Requirement already satisfied: networkx in c:\\users\\imlam\\desktop\\connectify\\ids-hackathon\\.venv\\lib\\site-packages (from torch) (3.3)\n",
            "Requirement already satisfied: jinja2 in c:\\users\\imlam\\desktop\\connectify\\ids-hackathon\\.venv\\lib\\site-packages (from torch) (3.1.4)\n",
            "Requirement already satisfied: fsspec in c:\\users\\imlam\\desktop\\connectify\\ids-hackathon\\.venv\\lib\\site-packages (from torch) (2024.6.1)\n",
            "Requirement already satisfied: setuptools in c:\\users\\imlam\\desktop\\connectify\\ids-hackathon\\.venv\\lib\\site-packages (from torch) (70.2.0)\n",
            "Requirement already satisfied: mpmath<1.4,>=1.1.0 in c:\\users\\imlam\\desktop\\connectify\\ids-hackathon\\.venv\\lib\\site-packages (from sympy>=1.13.3->torch) (1.3.0)\n",
            "Requirement already satisfied: MarkupSafe>=2.0 in c:\\users\\imlam\\desktop\\connectify\\ids-hackathon\\.venv\\lib\\site-packages (from jinja2->torch) (2.1.5)\n",
            "Requirement already satisfied: ipdb in c:\\users\\imlam\\desktop\\connectify\\ids-hackathon\\.venv\\lib\\site-packages (0.13.13)\n",
            "Requirement already satisfied: ipython>=7.31.1 in c:\\users\\imlam\\desktop\\connectify\\ids-hackathon\\.venv\\lib\\site-packages (from ipdb) (9.4.0)\n",
            "Requirement already satisfied: decorator in c:\\users\\imlam\\desktop\\connectify\\ids-hackathon\\.venv\\lib\\site-packages (from ipdb) (5.2.1)\n",
            "Requirement already satisfied: colorama in c:\\users\\imlam\\desktop\\connectify\\ids-hackathon\\.venv\\lib\\site-packages (from ipython>=7.31.1->ipdb) (0.4.6)\n",
            "Requirement already satisfied: ipython-pygments-lexers in c:\\users\\imlam\\desktop\\connectify\\ids-hackathon\\.venv\\lib\\site-packages (from ipython>=7.31.1->ipdb) (1.1.1)\n",
            "Requirement already satisfied: jedi>=0.16 in c:\\users\\imlam\\desktop\\connectify\\ids-hackathon\\.venv\\lib\\site-packages (from ipython>=7.31.1->ipdb) (0.19.2)\n",
            "Requirement already satisfied: matplotlib-inline in c:\\users\\imlam\\desktop\\connectify\\ids-hackathon\\.venv\\lib\\site-packages (from ipython>=7.31.1->ipdb) (0.1.7)\n",
            "Requirement already satisfied: prompt_toolkit<3.1.0,>=3.0.41 in c:\\users\\imlam\\desktop\\connectify\\ids-hackathon\\.venv\\lib\\site-packages (from ipython>=7.31.1->ipdb) (3.0.51)\n",
            "Requirement already satisfied: pygments>=2.4.0 in c:\\users\\imlam\\desktop\\connectify\\ids-hackathon\\.venv\\lib\\site-packages (from ipython>=7.31.1->ipdb) (2.19.2)\n",
            "Requirement already satisfied: stack_data in c:\\users\\imlam\\desktop\\connectify\\ids-hackathon\\.venv\\lib\\site-packages (from ipython>=7.31.1->ipdb) (0.6.3)\n",
            "Requirement already satisfied: traitlets>=5.13.0 in c:\\users\\imlam\\desktop\\connectify\\ids-hackathon\\.venv\\lib\\site-packages (from ipython>=7.31.1->ipdb) (5.14.3)\n",
            "Requirement already satisfied: wcwidth in c:\\users\\imlam\\desktop\\connectify\\ids-hackathon\\.venv\\lib\\site-packages (from prompt_toolkit<3.1.0,>=3.0.41->ipython>=7.31.1->ipdb) (0.2.13)\n",
            "Requirement already satisfied: parso<0.9.0,>=0.8.4 in c:\\users\\imlam\\desktop\\connectify\\ids-hackathon\\.venv\\lib\\site-packages (from jedi>=0.16->ipython>=7.31.1->ipdb) (0.8.4)\n",
            "Requirement already satisfied: executing>=1.2.0 in c:\\users\\imlam\\desktop\\connectify\\ids-hackathon\\.venv\\lib\\site-packages (from stack_data->ipython>=7.31.1->ipdb) (2.2.0)\n",
            "Requirement already satisfied: asttokens>=2.1.0 in c:\\users\\imlam\\desktop\\connectify\\ids-hackathon\\.venv\\lib\\site-packages (from stack_data->ipython>=7.31.1->ipdb) (3.0.0)\n",
            "Requirement already satisfied: pure-eval in c:\\users\\imlam\\desktop\\connectify\\ids-hackathon\\.venv\\lib\\site-packages (from stack_data->ipython>=7.31.1->ipdb) (0.2.3)\n",
            "Requirement already satisfied: tqdm in c:\\users\\imlam\\desktop\\connectify\\ids-hackathon\\.venv\\lib\\site-packages (4.67.1)\n",
            "Requirement already satisfied: colorama in c:\\users\\imlam\\desktop\\connectify\\ids-hackathon\\.venv\\lib\\site-packages (from tqdm) (0.4.6)\n",
            "Requirement already satisfied: pyarrow in c:\\users\\imlam\\desktop\\connectify\\ids-hackathon\\.venv\\lib\\site-packages (21.0.0)\n",
            "Collecting matplotlib\n",
            "  Using cached matplotlib-3.10.3-cp313-cp313-win_amd64.whl.metadata (11 kB)\n",
            "Collecting contourpy>=1.0.1 (from matplotlib)\n",
            "  Using cached contourpy-1.3.2-cp313-cp313-win_amd64.whl.metadata (5.5 kB)\n",
            "Collecting cycler>=0.10 (from matplotlib)\n",
            "  Using cached cycler-0.12.1-py3-none-any.whl.metadata (3.8 kB)\n",
            "Collecting fonttools>=4.22.0 (from matplotlib)\n",
            "  Downloading fonttools-4.59.0-cp313-cp313-win_amd64.whl.metadata (110 kB)\n",
            "Collecting kiwisolver>=1.3.1 (from matplotlib)\n",
            "  Using cached kiwisolver-1.4.8-cp313-cp313-win_amd64.whl.metadata (6.3 kB)\n",
            "Requirement already satisfied: numpy>=1.23 in c:\\users\\imlam\\desktop\\connectify\\ids-hackathon\\.venv\\lib\\site-packages (from matplotlib) (2.3.1)\n",
            "Requirement already satisfied: packaging>=20.0 in c:\\users\\imlam\\desktop\\connectify\\ids-hackathon\\.venv\\lib\\site-packages (from matplotlib) (25.0)\n",
            "Collecting pillow>=8 (from matplotlib)\n",
            "  Downloading pillow-11.3.0-cp313-cp313-win_amd64.whl.metadata (9.2 kB)\n",
            "Collecting pyparsing>=2.3.1 (from matplotlib)\n",
            "  Using cached pyparsing-3.2.3-py3-none-any.whl.metadata (5.0 kB)\n",
            "Requirement already satisfied: python-dateutil>=2.7 in c:\\users\\imlam\\desktop\\connectify\\ids-hackathon\\.venv\\lib\\site-packages (from matplotlib) (2.9.0.post0)\n",
            "Requirement already satisfied: six>=1.5 in c:\\users\\imlam\\desktop\\connectify\\ids-hackathon\\.venv\\lib\\site-packages (from python-dateutil>=2.7->matplotlib) (1.17.0)\n",
            "Using cached matplotlib-3.10.3-cp313-cp313-win_amd64.whl (8.1 MB)\n",
            "Using cached contourpy-1.3.2-cp313-cp313-win_amd64.whl (223 kB)\n",
            "Using cached cycler-0.12.1-py3-none-any.whl (8.3 kB)\n",
            "Downloading fonttools-4.59.0-cp313-cp313-win_amd64.whl (2.2 MB)\n",
            "   ---------------------------------------- 0.0/2.2 MB ? eta -:--:--\n",
            "   ---------------------------------------- 0.0/2.2 MB ? eta -:--:--\n",
            "   --------------------------- ------------ 1.6/2.2 MB 6.8 MB/s eta 0:00:01\n",
            "   ---------------------------------------- 2.2/2.2 MB 6.6 MB/s eta 0:00:00\n",
            "Using cached kiwisolver-1.4.8-cp313-cp313-win_amd64.whl (71 kB)\n",
            "Downloading pillow-11.3.0-cp313-cp313-win_amd64.whl (7.0 MB)\n",
            "   ---------------------------------------- 0.0/7.0 MB ? eta -:--:--\n",
            "   ------ --------------------------------- 1.0/7.0 MB 5.0 MB/s eta 0:00:02\n",
            "   ------------- -------------------------- 2.4/7.0 MB 5.5 MB/s eta 0:00:01\n",
            "   ---------------- ----------------------- 2.9/7.0 MB 4.8 MB/s eta 0:00:01\n",
            "   ------------------- -------------------- 3.4/7.0 MB 4.6 MB/s eta 0:00:01\n",
            "   ------------------------- -------------- 4.5/7.0 MB 4.2 MB/s eta 0:00:01\n",
            "   ---------------------------------------- 7.0/7.0 MB 5.6 MB/s eta 0:00:00\n",
            "Using cached pyparsing-3.2.3-py3-none-any.whl (111 kB)\n",
            "Installing collected packages: pyparsing, pillow, kiwisolver, fonttools, cycler, contourpy, matplotlib\n",
            "\n",
            "   ---------------------------------------- 0/7 [pyparsing]\n",
            "   ----- ---------------------------------- 1/7 [pillow]\n",
            "   ----- ---------------------------------- 1/7 [pillow]\n",
            "   ----- ---------------------------------- 1/7 [pillow]\n",
            "   ----- ---------------------------------- 1/7 [pillow]\n",
            "   ----- ---------------------------------- 1/7 [pillow]\n",
            "   ----- ---------------------------------- 1/7 [pillow]\n",
            "   ----- ---------------------------------- 1/7 [pillow]\n",
            "   ----- ---------------------------------- 1/7 [pillow]\n",
            "   ----- ---------------------------------- 1/7 [pillow]\n",
            "   ----- ---------------------------------- 1/7 [pillow]\n",
            "   ----------- ---------------------------- 2/7 [kiwisolver]\n",
            "   ----------------- ---------------------- 3/7 [fonttools]\n",
            "   ----------------- ---------------------- 3/7 [fonttools]\n",
            "   ----------------- ---------------------- 3/7 [fonttools]\n",
            "   ----------------- ---------------------- 3/7 [fonttools]\n",
            "   ----------------- ---------------------- 3/7 [fonttools]\n",
            "   ----------------- ---------------------- 3/7 [fonttools]\n",
            "   ----------------- ---------------------- 3/7 [fonttools]\n",
            "   ----------------- ---------------------- 3/7 [fonttools]\n",
            "   ----------------- ---------------------- 3/7 [fonttools]\n",
            "   ----------------- ---------------------- 3/7 [fonttools]\n",
            "   ----------------- ---------------------- 3/7 [fonttools]\n",
            "   ----------------- ---------------------- 3/7 [fonttools]\n",
            "   ----------------- ---------------------- 3/7 [fonttools]\n",
            "   ----------------- ---------------------- 3/7 [fonttools]\n",
            "   ----------------- ---------------------- 3/7 [fonttools]\n",
            "   ----------------- ---------------------- 3/7 [fonttools]\n",
            "   ----------------- ---------------------- 3/7 [fonttools]\n",
            "   ----------------- ---------------------- 3/7 [fonttools]\n",
            "   ----------------- ---------------------- 3/7 [fonttools]\n",
            "   ----------------- ---------------------- 3/7 [fonttools]\n",
            "   ----------------- ---------------------- 3/7 [fonttools]\n",
            "   ----------------- ---------------------- 3/7 [fonttools]\n",
            "   ----------------- ---------------------- 3/7 [fonttools]\n",
            "   ----------------- ---------------------- 3/7 [fonttools]\n",
            "   ----------------- ---------------------- 3/7 [fonttools]\n",
            "   ----------------- ---------------------- 3/7 [fonttools]\n",
            "   ----------------- ---------------------- 3/7 [fonttools]\n",
            "   ----------------- ---------------------- 3/7 [fonttools]\n",
            "   ----------------- ---------------------- 3/7 [fonttools]\n",
            "   ----------------- ---------------------- 3/7 [fonttools]\n",
            "   ----------------- ---------------------- 3/7 [fonttools]\n",
            "   ---------------------------- ----------- 5/7 [contourpy]\n",
            "   ---------------------------------- ----- 6/7 [matplotlib]\n",
            "   ---------------------------------- ----- 6/7 [matplotlib]\n",
            "   ---------------------------------- ----- 6/7 [matplotlib]\n",
            "   ---------------------------------- ----- 6/7 [matplotlib]\n",
            "   ---------------------------------- ----- 6/7 [matplotlib]\n",
            "   ---------------------------------- ----- 6/7 [matplotlib]\n",
            "   ---------------------------------- ----- 6/7 [matplotlib]\n",
            "   ---------------------------------- ----- 6/7 [matplotlib]\n",
            "   ---------------------------------- ----- 6/7 [matplotlib]\n",
            "   ---------------------------------- ----- 6/7 [matplotlib]\n",
            "   ---------------------------------- ----- 6/7 [matplotlib]\n",
            "   ---------------------------------- ----- 6/7 [matplotlib]\n",
            "   ---------------------------------- ----- 6/7 [matplotlib]\n",
            "   ---------------------------------- ----- 6/7 [matplotlib]\n",
            "   ---------------------------------- ----- 6/7 [matplotlib]\n",
            "   ---------------------------------- ----- 6/7 [matplotlib]\n",
            "   ---------------------------------- ----- 6/7 [matplotlib]\n",
            "   ---------------------------------- ----- 6/7 [matplotlib]\n",
            "   ---------------------------------- ----- 6/7 [matplotlib]\n",
            "   ---------------------------------- ----- 6/7 [matplotlib]\n",
            "   ---------------------------------- ----- 6/7 [matplotlib]\n",
            "   ---------------------------------- ----- 6/7 [matplotlib]\n",
            "   ---------------------------------- ----- 6/7 [matplotlib]\n",
            "   ---------------------------------- ----- 6/7 [matplotlib]\n",
            "   ---------------------------------- ----- 6/7 [matplotlib]\n",
            "   ---------------------------------- ----- 6/7 [matplotlib]\n",
            "   ---------------------------------- ----- 6/7 [matplotlib]\n",
            "   ---------------------------------- ----- 6/7 [matplotlib]\n",
            "   ---------------------------------- ----- 6/7 [matplotlib]\n",
            "   ---------------------------------- ----- 6/7 [matplotlib]\n",
            "   ---------------------------------- ----- 6/7 [matplotlib]\n",
            "   ---------------------------------- ----- 6/7 [matplotlib]\n",
            "   ---------------------------------- ----- 6/7 [matplotlib]\n",
            "   ---------------------------------- ----- 6/7 [matplotlib]\n",
            "   ---------------------------------- ----- 6/7 [matplotlib]\n",
            "   ---------------------------------- ----- 6/7 [matplotlib]\n",
            "   ---------------------------------------- 7/7 [matplotlib]\n",
            "\n",
            "Successfully installed contourpy-1.3.2 cycler-0.12.1 fonttools-4.59.0 kiwisolver-1.4.8 matplotlib-3.10.3 pillow-11.3.0 pyparsing-3.2.3\n",
            "Collecting scikit-learn\n",
            "  Downloading scikit_learn-1.7.1-cp313-cp313-win_amd64.whl.metadata (11 kB)\n",
            "Requirement already satisfied: numpy>=1.22.0 in c:\\users\\imlam\\desktop\\connectify\\ids-hackathon\\.venv\\lib\\site-packages (from scikit-learn) (2.3.1)\n",
            "Collecting scipy>=1.8.0 (from scikit-learn)\n",
            "  Downloading scipy-1.16.0-cp313-cp313-win_amd64.whl.metadata (60 kB)\n",
            "Collecting joblib>=1.2.0 (from scikit-learn)\n",
            "  Downloading joblib-1.5.1-py3-none-any.whl.metadata (5.6 kB)\n",
            "Collecting threadpoolctl>=3.1.0 (from scikit-learn)\n",
            "  Downloading threadpoolctl-3.6.0-py3-none-any.whl.metadata (13 kB)\n",
            "Downloading scikit_learn-1.7.1-cp313-cp313-win_amd64.whl (8.7 MB)\n",
            "   ---------------------------------------- 0.0/8.7 MB ? eta -:--:--\n",
            "   ------- -------------------------------- 1.6/8.7 MB 8.2 MB/s eta 0:00:01\n",
            "   ------------------ --------------------- 3.9/8.7 MB 10.2 MB/s eta 0:00:01\n",
            "   ------------------------- -------------- 5.5/8.7 MB 9.2 MB/s eta 0:00:01\n",
            "   -------------------------------------- - 8.4/8.7 MB 10.7 MB/s eta 0:00:01\n",
            "   ---------------------------------------- 8.7/8.7 MB 9.6 MB/s eta 0:00:00\n",
            "Downloading joblib-1.5.1-py3-none-any.whl (307 kB)\n",
            "Downloading scipy-1.16.0-cp313-cp313-win_amd64.whl (38.4 MB)\n",
            "   ---------------------------------------- 0.0/38.4 MB ? eta -:--:--\n",
            "   -- ------------------------------------- 2.4/38.4 MB 10.9 MB/s eta 0:00:04\n",
            "   ---- ----------------------------------- 4.2/38.4 MB 11.5 MB/s eta 0:00:03\n",
            "   ----- ---------------------------------- 5.0/38.4 MB 10.1 MB/s eta 0:00:04\n",
            "   ------- -------------------------------- 6.8/38.4 MB 9.8 MB/s eta 0:00:04\n",
            "   --------- ------------------------------ 9.2/38.4 MB 9.2 MB/s eta 0:00:04\n",
            "   ------------- -------------------------- 13.4/38.4 MB 10.9 MB/s eta 0:00:03\n",
            "   --------------- ------------------------ 14.7/38.4 MB 10.8 MB/s eta 0:00:03\n",
            "   ----------------- ---------------------- 17.0/38.4 MB 10.6 MB/s eta 0:00:03\n",
            "   ---------------------- ----------------- 21.2/38.4 MB 11.4 MB/s eta 0:00:02\n",
            "   --------------------------- ------------ 26.0/38.4 MB 12.5 MB/s eta 0:00:01\n",
            "   ------------------------------ --------- 29.1/38.4 MB 12.7 MB/s eta 0:00:01\n",
            "   --------------------------------- ------ 32.0/38.4 MB 12.7 MB/s eta 0:00:01\n",
            "   ------------------------------------ --- 34.6/38.4 MB 12.7 MB/s eta 0:00:01\n",
            "   ---------------------------------------- 38.4/38.4 MB 13.2 MB/s eta 0:00:00\n",
            "Downloading threadpoolctl-3.6.0-py3-none-any.whl (18 kB)\n",
            "Installing collected packages: threadpoolctl, scipy, joblib, scikit-learn\n",
            "\n",
            "   ---------- ----------------------------- 1/4 [scipy]\n",
            "   ---------- ----------------------------- 1/4 [scipy]\n",
            "   ---------- ----------------------------- 1/4 [scipy]\n",
            "   ---------- ----------------------------- 1/4 [scipy]\n",
            "   ---------- ----------------------------- 1/4 [scipy]\n",
            "   ---------- ----------------------------- 1/4 [scipy]\n",
            "   ---------- ----------------------------- 1/4 [scipy]\n",
            "   ---------- ----------------------------- 1/4 [scipy]\n",
            "   ---------- ----------------------------- 1/4 [scipy]\n",
            "   ---------- ----------------------------- 1/4 [scipy]\n",
            "   ---------- ----------------------------- 1/4 [scipy]\n",
            "   ---------- ----------------------------- 1/4 [scipy]\n",
            "   ---------- ----------------------------- 1/4 [scipy]\n",
            "   ---------- ----------------------------- 1/4 [scipy]\n",
            "   ---------- ----------------------------- 1/4 [scipy]\n",
            "   ---------- ----------------------------- 1/4 [scipy]\n",
            "   ---------- ----------------------------- 1/4 [scipy]\n",
            "   ---------- ----------------------------- 1/4 [scipy]\n",
            "   ---------- ----------------------------- 1/4 [scipy]\n",
            "   ---------- ----------------------------- 1/4 [scipy]\n",
            "   ---------- ----------------------------- 1/4 [scipy]\n",
            "   ---------- ----------------------------- 1/4 [scipy]\n",
            "   ---------- ----------------------------- 1/4 [scipy]\n",
            "   ---------- ----------------------------- 1/4 [scipy]\n",
            "   ---------- ----------------------------- 1/4 [scipy]\n",
            "   ---------- ----------------------------- 1/4 [scipy]\n",
            "   ---------- ----------------------------- 1/4 [scipy]\n",
            "   ---------- ----------------------------- 1/4 [scipy]\n",
            "   ---------- ----------------------------- 1/4 [scipy]\n",
            "   ---------- ----------------------------- 1/4 [scipy]\n",
            "   ---------- ----------------------------- 1/4 [scipy]\n",
            "   ---------- ----------------------------- 1/4 [scipy]\n",
            "   ---------- ----------------------------- 1/4 [scipy]\n",
            "   ---------- ----------------------------- 1/4 [scipy]\n",
            "   ---------- ----------------------------- 1/4 [scipy]\n",
            "   ---------- ----------------------------- 1/4 [scipy]\n",
            "   ---------- ----------------------------- 1/4 [scipy]\n",
            "   ---------- ----------------------------- 1/4 [scipy]\n",
            "   ---------- ----------------------------- 1/4 [scipy]\n",
            "   ---------- ----------------------------- 1/4 [scipy]\n",
            "   ---------- ----------------------------- 1/4 [scipy]\n",
            "   ---------- ----------------------------- 1/4 [scipy]\n",
            "   ---------- ----------------------------- 1/4 [scipy]\n",
            "   ---------- ----------------------------- 1/4 [scipy]\n",
            "   ---------- ----------------------------- 1/4 [scipy]\n",
            "   ---------- ----------------------------- 1/4 [scipy]\n",
            "   ---------- ----------------------------- 1/4 [scipy]\n",
            "   ---------- ----------------------------- 1/4 [scipy]\n",
            "   ---------- ----------------------------- 1/4 [scipy]\n",
            "   ---------- ----------------------------- 1/4 [scipy]\n",
            "   ---------- ----------------------------- 1/4 [scipy]\n",
            "   ---------- ----------------------------- 1/4 [scipy]\n",
            "   ---------- ----------------------------- 1/4 [scipy]\n",
            "   ---------- ----------------------------- 1/4 [scipy]\n",
            "   ---------- ----------------------------- 1/4 [scipy]\n",
            "   ---------- ----------------------------- 1/4 [scipy]\n",
            "   ---------- ----------------------------- 1/4 [scipy]\n",
            "   ---------- ----------------------------- 1/4 [scipy]\n",
            "   ---------- ----------------------------- 1/4 [scipy]\n",
            "   ---------- ----------------------------- 1/4 [scipy]\n",
            "   ---------- ----------------------------- 1/4 [scipy]\n",
            "   ---------- ----------------------------- 1/4 [scipy]\n",
            "   ---------- ----------------------------- 1/4 [scipy]\n",
            "   ---------- ----------------------------- 1/4 [scipy]\n",
            "   ---------- ----------------------------- 1/4 [scipy]\n",
            "   ---------- ----------------------------- 1/4 [scipy]\n",
            "   ---------- ----------------------------- 1/4 [scipy]\n",
            "   ---------- ----------------------------- 1/4 [scipy]\n",
            "   ---------- ----------------------------- 1/4 [scipy]\n",
            "   ---------- ----------------------------- 1/4 [scipy]\n",
            "   ---------- ----------------------------- 1/4 [scipy]\n",
            "   ---------- ----------------------------- 1/4 [scipy]\n",
            "   ---------- ----------------------------- 1/4 [scipy]\n",
            "   ---------- ----------------------------- 1/4 [scipy]\n",
            "   ---------- ----------------------------- 1/4 [scipy]\n",
            "   ---------- ----------------------------- 1/4 [scipy]\n",
            "   ---------- ----------------------------- 1/4 [scipy]\n",
            "   ---------- ----------------------------- 1/4 [scipy]\n",
            "   ---------- ----------------------------- 1/4 [scipy]\n",
            "   ---------- ----------------------------- 1/4 [scipy]\n",
            "   ---------- ----------------------------- 1/4 [scipy]\n",
            "   ---------- ----------------------------- 1/4 [scipy]\n",
            "   ---------- ----------------------------- 1/4 [scipy]\n",
            "   ---------- ----------------------------- 1/4 [scipy]\n",
            "   ---------- ----------------------------- 1/4 [scipy]\n",
            "   ---------- ----------------------------- 1/4 [scipy]\n",
            "   ---------- ----------------------------- 1/4 [scipy]\n",
            "   ---------- ----------------------------- 1/4 [scipy]\n",
            "   ---------- ----------------------------- 1/4 [scipy]\n",
            "   ---------- ----------------------------- 1/4 [scipy]\n",
            "   ---------- ----------------------------- 1/4 [scipy]\n",
            "   ---------- ----------------------------- 1/4 [scipy]\n",
            "   ---------- ----------------------------- 1/4 [scipy]\n",
            "   ---------- ----------------------------- 1/4 [scipy]\n",
            "   ---------- ----------------------------- 1/4 [scipy]\n",
            "   ---------- ----------------------------- 1/4 [scipy]\n",
            "   ---------- ----------------------------- 1/4 [scipy]\n",
            "   ---------- ----------------------------- 1/4 [scipy]\n",
            "   ---------- ----------------------------- 1/4 [scipy]\n",
            "   ---------- ----------------------------- 1/4 [scipy]\n",
            "   ---------- ----------------------------- 1/4 [scipy]\n",
            "   ---------- ----------------------------- 1/4 [scipy]\n",
            "   ---------- ----------------------------- 1/4 [scipy]\n",
            "   ---------- ----------------------------- 1/4 [scipy]\n",
            "   ---------- ----------------------------- 1/4 [scipy]\n",
            "   ---------- ----------------------------- 1/4 [scipy]\n",
            "   ---------- ----------------------------- 1/4 [scipy]\n",
            "   ---------- ----------------------------- 1/4 [scipy]\n",
            "   ---------- ----------------------------- 1/4 [scipy]\n",
            "   ---------- ----------------------------- 1/4 [scipy]\n",
            "   ---------- ----------------------------- 1/4 [scipy]\n",
            "   ---------- ----------------------------- 1/4 [scipy]\n",
            "   ---------- ----------------------------- 1/4 [scipy]\n",
            "   ---------- ----------------------------- 1/4 [scipy]\n",
            "   ---------- ----------------------------- 1/4 [scipy]\n",
            "   ---------- ----------------------------- 1/4 [scipy]\n",
            "   ---------- ----------------------------- 1/4 [scipy]\n",
            "   -------------------- ------------------- 2/4 [joblib]\n",
            "   -------------------- ------------------- 2/4 [joblib]\n",
            "   -------------------- ------------------- 2/4 [joblib]\n",
            "   -------------------- ------------------- 2/4 [joblib]\n",
            "   -------------------- ------------------- 2/4 [joblib]\n",
            "   -------------------- ------------------- 2/4 [joblib]\n",
            "   -------------------- ------------------- 2/4 [joblib]\n",
            "   ------------------------------ --------- 3/4 [scikit-learn]\n",
            "   ------------------------------ --------- 3/4 [scikit-learn]\n",
            "   ------------------------------ --------- 3/4 [scikit-learn]\n",
            "   ------------------------------ --------- 3/4 [scikit-learn]\n",
            "   ------------------------------ --------- 3/4 [scikit-learn]\n",
            "   ------------------------------ --------- 3/4 [scikit-learn]\n",
            "   ------------------------------ --------- 3/4 [scikit-learn]\n",
            "   ------------------------------ --------- 3/4 [scikit-learn]\n",
            "   ------------------------------ --------- 3/4 [scikit-learn]\n",
            "   ------------------------------ --------- 3/4 [scikit-learn]\n",
            "   ------------------------------ --------- 3/4 [scikit-learn]\n",
            "   ------------------------------ --------- 3/4 [scikit-learn]\n",
            "   ------------------------------ --------- 3/4 [scikit-learn]\n",
            "   ------------------------------ --------- 3/4 [scikit-learn]\n",
            "   ------------------------------ --------- 3/4 [scikit-learn]\n",
            "   ------------------------------ --------- 3/4 [scikit-learn]\n",
            "   ------------------------------ --------- 3/4 [scikit-learn]\n",
            "   ------------------------------ --------- 3/4 [scikit-learn]\n",
            "   ------------------------------ --------- 3/4 [scikit-learn]\n",
            "   ------------------------------ --------- 3/4 [scikit-learn]\n",
            "   ------------------------------ --------- 3/4 [scikit-learn]\n",
            "   ------------------------------ --------- 3/4 [scikit-learn]\n",
            "   ------------------------------ --------- 3/4 [scikit-learn]\n",
            "   ------------------------------ --------- 3/4 [scikit-learn]\n",
            "   ------------------------------ --------- 3/4 [scikit-learn]\n",
            "   ------------------------------ --------- 3/4 [scikit-learn]\n",
            "   ------------------------------ --------- 3/4 [scikit-learn]\n",
            "   ------------------------------ --------- 3/4 [scikit-learn]\n",
            "   ------------------------------ --------- 3/4 [scikit-learn]\n",
            "   ------------------------------ --------- 3/4 [scikit-learn]\n",
            "   ------------------------------ --------- 3/4 [scikit-learn]\n",
            "   ------------------------------ --------- 3/4 [scikit-learn]\n",
            "   ------------------------------ --------- 3/4 [scikit-learn]\n",
            "   ------------------------------ --------- 3/4 [scikit-learn]\n",
            "   ------------------------------ --------- 3/4 [scikit-learn]\n",
            "   ------------------------------ --------- 3/4 [scikit-learn]\n",
            "   ------------------------------ --------- 3/4 [scikit-learn]\n",
            "   ------------------------------ --------- 3/4 [scikit-learn]\n",
            "   ------------------------------ --------- 3/4 [scikit-learn]\n",
            "   ------------------------------ --------- 3/4 [scikit-learn]\n",
            "   ------------------------------ --------- 3/4 [scikit-learn]\n",
            "   ------------------------------ --------- 3/4 [scikit-learn]\n",
            "   ------------------------------ --------- 3/4 [scikit-learn]\n",
            "   ------------------------------ --------- 3/4 [scikit-learn]\n",
            "   ------------------------------ --------- 3/4 [scikit-learn]\n",
            "   ------------------------------ --------- 3/4 [scikit-learn]\n",
            "   ------------------------------ --------- 3/4 [scikit-learn]\n",
            "   ------------------------------ --------- 3/4 [scikit-learn]\n",
            "   ------------------------------ --------- 3/4 [scikit-learn]\n",
            "   ------------------------------ --------- 3/4 [scikit-learn]\n",
            "   ------------------------------ --------- 3/4 [scikit-learn]\n",
            "   ------------------------------ --------- 3/4 [scikit-learn]\n",
            "   ------------------------------ --------- 3/4 [scikit-learn]\n",
            "   ------------------------------ --------- 3/4 [scikit-learn]\n",
            "   ------------------------------ --------- 3/4 [scikit-learn]\n",
            "   ------------------------------ --------- 3/4 [scikit-learn]\n",
            "   ------------------------------ --------- 3/4 [scikit-learn]\n",
            "   ------------------------------ --------- 3/4 [scikit-learn]\n",
            "   ------------------------------ --------- 3/4 [scikit-learn]\n",
            "   ------------------------------ --------- 3/4 [scikit-learn]\n",
            "   ------------------------------ --------- 3/4 [scikit-learn]\n",
            "   ------------------------------ --------- 3/4 [scikit-learn]\n",
            "   ------------------------------ --------- 3/4 [scikit-learn]\n",
            "   ------------------------------ --------- 3/4 [scikit-learn]\n",
            "   ------------------------------ --------- 3/4 [scikit-learn]\n",
            "   ------------------------------ --------- 3/4 [scikit-learn]\n",
            "   ---------------------------------------- 4/4 [scikit-learn]\n",
            "\n",
            "Successfully installed joblib-1.5.1 scikit-learn-1.7.1 scipy-1.16.0 threadpoolctl-3.6.0\n"
          ]
        }
      ],
      "source": [
        "# install dependencies\n",
        "! pip install pandas\n",
        "! pip3 install torch --index-url https://download.pytorch.org/whl/cu128\n",
        "! pip install ipdb\n",
        "! pip install tqdm\n",
        "! pip install pyarrow\n",
        "! pip install matplotlib\n",
        "! pip install scikit-learn\n"
      ]
    },
    {
      "cell_type": "code",
      "execution_count": 1,
      "metadata": {
        "colab": {
          "base_uri": "https://localhost:8080/",
          "height": 529
        },
        "id": "X-MmhuY3qjvp",
        "outputId": "f140e01f-5d8c-4b69-b3c8-eccc82b9b4d1"
      },
      "outputs": [
        {
          "name": "stdout",
          "output_type": "stream",
          "text": [
            "cuda\n"
          ]
        }
      ],
      "source": [
        "# import libraries\n",
        "import os\n",
        "#os.environ[\"CUDA_LAUNCH_BLOCKING\"] = \"1\"\n",
        "import pandas as pd\n",
        "import glob\n",
        "import torch\n",
        "from torch.utils.data import Dataset, DataLoader, random_split, IterableDataset\n",
        "import gc\n",
        "import numpy as np\n",
        "import torch.nn.functional as F\n",
        "import torch.nn as nn\n",
        "import time\n",
        "from tqdm import tqdm\n",
        "import pyarrow.dataset as ds\n",
        "from sklearn.metrics import roc_curve, auc\n",
        "import matplotlib.pyplot as plt\n",
        "import random\n",
        "\n",
        "device = torch.device(\"cuda\" if torch.cuda.is_available() else \"cpu\")\n",
        "print(device)"
      ]
    },
    {
      "cell_type": "code",
      "execution_count": null,
      "metadata": {
        "id": "ACFRdy1cqsto"
      },
      "outputs": [],
      "source": [
        "# from google.colab import drive\n",
        "# drive.mount('/content/drive')\n",
        "# ! cp drive/MyDrive/normalized-ids2018-parquet.tar.gz /content/\n",
        "! tar -xzvf normalized-ids2018-parquet.tar.gz normalized/"
      ]
    },
    {
      "cell_type": "code",
      "execution_count": 2,
      "metadata": {
        "id": "PIwZWOqLKqTR"
      },
      "outputs": [],
      "source": [
        "PARQUET_FILES = glob.glob('normalized/*')"
      ]
    },
    {
      "cell_type": "code",
      "execution_count": 3,
      "metadata": {
        "id": "hhQA3e0nYgzh"
      },
      "outputs": [
        {
          "name": "stdout",
          "output_type": "stream",
          "text": [
            "['ACK Flag Cnt', 'Active Max', 'Active Mean', 'Active Min', 'Active Std', 'Bwd Blk Rate Avg', 'Bwd Byts/b Avg', 'Bwd Header Len', 'Bwd IAT Max', 'Bwd IAT Mean', 'Bwd IAT Min', 'Bwd IAT Std', 'Bwd IAT Tot', 'Bwd PSH Flags', 'Bwd Pkt Len Max', 'Bwd Pkt Len Mean', 'Bwd Pkt Len Min', 'Bwd Pkt Len Std', 'Bwd Pkts/b Avg', 'Bwd Pkts/s', 'Bwd Seg Size Avg', 'Bwd URG Flags', 'CWE Flag Count', 'Down/Up Ratio', 'Dst Port', 'ECE Flag Cnt', 'FIN Flag Cnt', 'Flow Byts/s', 'Flow Duration', 'Flow IAT Max', 'Flow IAT Mean', 'Flow IAT Min', 'Flow IAT Std', 'Flow Pkts/s', 'Fwd Act Data Pkts', 'Fwd Blk Rate Avg', 'Fwd Byts/b Avg', 'Fwd Header Len', 'Fwd IAT Max', 'Fwd IAT Mean', 'Fwd IAT Min', 'Fwd IAT Std', 'Fwd IAT Tot', 'Fwd PSH Flags', 'Fwd Pkt Len Max', 'Fwd Pkt Len Mean', 'Fwd Pkt Len Min', 'Fwd Pkt Len Std', 'Fwd Pkts/b Avg', 'Fwd Pkts/s', 'Fwd Seg Size Avg', 'Fwd Seg Size Min', 'Fwd URG Flags', 'Idle Max', 'Idle Mean', 'Idle Min', 'Idle Std', 'Init Bwd Win Byts', 'Init Fwd Win Byts', 'PSH Flag Cnt', 'Pkt Len Max', 'Pkt Len Mean', 'Pkt Len Min', 'Pkt Len Std', 'Pkt Len Var', 'Pkt Size Avg', 'Protocol', 'RST Flag Cnt', 'SYN Flag Cnt', 'Src Port', 'Subflow Bwd Byts', 'Subflow Bwd Pkts', 'Subflow Fwd Byts', 'Subflow Fwd Pkts', 'Timestamp', 'Tot Bwd Pkts', 'Tot Fwd Pkts', 'TotLen Bwd Pkts', 'TotLen Fwd Pkts', 'URG Flag Cnt', 'Label']\n",
            "['ACK Flag Cnt', 'Active Max', 'Active Mean', 'Active Min', 'Active Std', 'Bwd Blk Rate Avg', 'Bwd Byts/b Avg', 'Bwd Header Len', 'Bwd IAT Max', 'Bwd IAT Mean', 'Bwd IAT Min', 'Bwd IAT Std', 'Bwd IAT Tot', 'Bwd PSH Flags', 'Bwd Pkt Len Max', 'Bwd Pkt Len Mean', 'Bwd Pkt Len Min', 'Bwd Pkt Len Std', 'Bwd Pkts/b Avg', 'Bwd Pkts/s', 'Bwd Seg Size Avg', 'Bwd URG Flags', 'CWE Flag Count', 'Down/Up Ratio', 'Dst Port', 'ECE Flag Cnt', 'FIN Flag Cnt', 'Flow Byts/s', 'Flow Duration', 'Flow IAT Max', 'Flow IAT Mean', 'Flow IAT Min', 'Flow IAT Std', 'Flow Pkts/s', 'Fwd Act Data Pkts', 'Fwd Blk Rate Avg', 'Fwd Byts/b Avg', 'Fwd Header Len', 'Fwd IAT Max', 'Fwd IAT Mean', 'Fwd IAT Min', 'Fwd IAT Std', 'Fwd IAT Tot', 'Fwd PSH Flags', 'Fwd Pkt Len Max', 'Fwd Pkt Len Mean', 'Fwd Pkt Len Min', 'Fwd Pkt Len Std', 'Fwd Pkts/b Avg', 'Fwd Pkts/s', 'Fwd Seg Size Avg', 'Fwd Seg Size Min', 'Fwd URG Flags', 'Idle Max', 'Idle Mean', 'Idle Min', 'Idle Std', 'Init Bwd Win Byts', 'Init Fwd Win Byts', 'PSH Flag Cnt', 'Pkt Len Max', 'Pkt Len Mean', 'Pkt Len Min', 'Pkt Len Std', 'Pkt Len Var', 'Pkt Size Avg', 'Protocol', 'RST Flag Cnt', 'SYN Flag Cnt', 'Src Port', 'Subflow Bwd Byts', 'Subflow Bwd Pkts', 'Subflow Fwd Byts', 'Subflow Fwd Pkts', 'Tot Bwd Pkts', 'Tot Fwd Pkts', 'TotLen Bwd Pkts', 'TotLen Fwd Pkts', 'URG Flag Cnt', 'Label']\n"
          ]
        }
      ],
      "source": [
        "# canon columns\n",
        "CANON_COLUMN_INDEX = ['Fwd IAT Tot', 'Fwd Pkt Len Min', 'Down/Up Ratio', 'Dst Port', 'Fwd IAT Std', 'Fwd Header Len', 'Fwd IAT Min', 'Flow IAT Std', 'Active Std', 'Bwd IAT Max', 'Fwd Pkt Len Mean', 'Pkt Size Avg', 'PSH Flag Cnt', 'Flow IAT Mean', 'Fwd Act Data Pkts', 'Bwd Pkt Len Max', 'Flow IAT Max', 'ACK Flag Cnt', 'Bwd IAT Tot', 'Flow IAT Min', 'Bwd Pkts/b Avg', 'Fwd IAT Max', 'SYN Flag Cnt', 'Bwd Header Len', 'Fwd Seg Size Avg', 'Bwd Byts/b Avg', 'Subflow Bwd Byts', 'Pkt Len Max', 'Bwd Pkts/s', 'Fwd IAT Mean', 'Pkt Len Var', 'Fwd Pkt Len Std', 'Protocol', 'Init Bwd Win Byts', 'Active Min', 'Src Port', 'RST Flag Cnt', 'Subflow Fwd Byts', 'Init Fwd Win Byts', 'Bwd Pkt Len Std', 'Fwd PSH Flags', 'Fwd Pkts/s', 'Bwd Blk Rate Avg', 'Flow Byts/s', 'CWE Flag Count', 'Pkt Len Std', 'Active Max', 'Fwd Byts/b Avg', 'Fwd Blk Rate Avg', 'URG Flag Cnt', 'Timestamp', 'Fwd Pkts/b Avg', 'Idle Mean', 'Idle Std', 'Fwd Pkt Len Max', 'Pkt Len Min', 'Flow Duration', 'Fwd Seg Size Min', 'Bwd IAT Min', 'TotLen Fwd Pkts', 'Flow Pkts/s', 'Active Mean', 'ECE Flag Cnt', 'Idle Min', 'Subflow Bwd Pkts', 'Bwd Pkt Len Mean', 'Pkt Len Mean', 'Tot Fwd Pkts', 'Bwd IAT Std', 'Bwd Seg Size Avg', 'Bwd URG Flags', 'Bwd Pkt Len Min', 'Tot Bwd Pkts', 'Subflow Fwd Pkts', 'Bwd IAT Mean', 'FIN Flag Cnt', 'Bwd PSH Flags', 'TotLen Bwd Pkts', 'Fwd URG Flags', 'Idle Max']\n",
        "CANON_COLUMN_INDEX.sort()\n",
        "CANON_COLUMN_INDEX.append('Label')\n",
        "print(CANON_COLUMN_INDEX)\n",
        "TRAINING_UNWANTED_COLUMNS = ['Timestamp', 'Flow ID', 'Dst IP', \"Src IP\"]\n",
        "TRAINING_WANTED_COLUMNS = []\n",
        "for col in CANON_COLUMN_INDEX:\n",
        "  if col not in TRAINING_UNWANTED_COLUMNS:\n",
        "    TRAINING_WANTED_COLUMNS.append(col)\n",
        "print(TRAINING_WANTED_COLUMNS)\n",
        "TRAINING_FEATURES = TRAINING_WANTED_COLUMNS[:-1]\n",
        "\n",
        "LENGTH = 16233002 # precalculated from data wrangling, see info.json\n"
      ]
    },
    {
      "cell_type": "code",
      "execution_count": null,
      "metadata": {
        "id": "KFf3USxJshct"
      },
      "outputs": [],
      "source": [
        "# pyarrow parquet dataset\n",
        "class ArrowParquetDataset(IterableDataset):\n",
        "    def __init__(self, path, batch_size=1024, shuffle=False):\n",
        "        self.path = path\n",
        "        self.batch_size = batch_size\n",
        "        self.shuffle = shuffle\n",
        "\n",
        "        self.num_iterations = int(LENGTH / self.batch_size)\n",
        "\n",
        "    def __iter__(self):\n",
        "        dataset = ds.dataset(self.path, format=\"parquet\")\n",
        "        scanner = dataset.scanner(columns=TRAINING_WANTED_COLUMNS, batch_size=self.batch_size)\n",
        "        batches = scanner.to_batches()\n",
        "\n",
        "        if self.shuffle:\n",
        "            # Convert to list and shuffle batches if needed\n",
        "            batches = list(batches)\n",
        "            random.shuffle(batches)\n",
        "\n",
        "        for batch in batches:\n",
        "            x = batch.select(TRAINING_FEATURES).to_tensor(null_to_nan=True)\n",
        "            y_string_array = batch.column(\"Label\")\n",
        "\n",
        "            # Optional: convert to torch.Tensor\n",
        "            x = torch.tensor(x, dtype=torch.float32)\n",
        "            y = torch.tensor([(0.0 if val.as_py() == \"Benign\" else 1.0) for val in y_string_array], dtype=torch.float32)\n",
        "\n",
        "            # mask and impute nans\n",
        "            mask = torch.isnan(x).float()\n",
        "            x = torch.nan_to_num(x, nan=0.0)\n",
        "            x = torch.cat([x, mask], dim=1)\n",
        "\n",
        "            yield x, y\n",
        "\n",
        "DS_ARROW = ArrowParquetDataset(PARQUET_FILES, batch_size=1024)"
      ]
    },
    {
      "cell_type": "code",
      "execution_count": null,
      "metadata": {
        "id": "-wcqLdysqa3i"
      },
      "outputs": [
        {
          "name": "stdout",
          "output_type": "stream",
          "text": [
            "torch.Size([158])\n"
          ]
        }
      ],
      "source": [
        "# create dataset\n",
        "class IDS2018Dataset(Dataset):\n",
        "  def __init__(self, files):\n",
        "    self.files = files\n",
        "    self.idx_map = []\n",
        "    self.curr_file = -1\n",
        "    self.curr_df = None\n",
        "    self.length = 0\n",
        "\n",
        "    self.calcIdxMap()\n",
        "    self.loadCSV(0)\n",
        "\n",
        "  def loadCSV(self, file_idx):\n",
        "    if self.curr_file == file_idx:\n",
        "      return\n",
        "\n",
        "    if self.curr_file != -1:\n",
        "      del self.curr_df\n",
        "      gc.collect()\n",
        "\n",
        "    df = pd.read_parquet(self.files[file_idx])\n",
        "    df = df.reindex(columns=CANON_COLUMN_INDEX)\n",
        "    for col in df.columns:\n",
        "      if col in TRAINING_UNWANTED_COLUMNS:\n",
        "        df = df.drop(columns=[col])\n",
        "\n",
        "    self.curf_file = file_idx\n",
        "    self.curr_df = df\n",
        "\n",
        "  def calcIdxMap(self):\n",
        "    for i, file in enumerate(self.files):\n",
        "      df = pd.read_parquet(file)\n",
        "      self.idx_map.extend([(i, j) for j in range(len(df))])\n",
        "    self.length = len(self.idx_map)\n",
        "\n",
        "  def __len__(self):\n",
        "    return self.length\n",
        "\n",
        "  def __getitem__(self, idx):\n",
        "    file_idx, row_idx = self.idx_map[idx]\n",
        "\n",
        "    if file_idx != self.curr_file:\n",
        "      self.loadCSV(file_idx)\n",
        "\n",
        "    data = self.curr_df.loc[row_idx]\n",
        "\n",
        "    x = torch.tensor(data.iloc[0:-1].values.astype(np.float32), dtype=torch.float32)\n",
        "    y = torch.tensor((0.0 if data.iloc[-1] == \"Benign\" else 1.0), dtype=torch.float32)\n",
        "\n",
        "    # mask and impute nans\n",
        "    mask = torch.isnan(x).float()\n",
        "    x = torch.nan_to_num(x, nan=0.0)\n",
        "    x = torch.cat([x, mask])\n",
        "\n",
        "    return x,y\n",
        "\n",
        "DS_CLASSIC = IDS2018Dataset(PARQUET_FILES)\n",
        "print(DS_CLASSIC[0][0].size())"
      ]
    },
    {
      "cell_type": "code",
      "execution_count": 8,
      "metadata": {
        "id": "nZxqTvNX0l1g"
      },
      "outputs": [
        {
          "ename": "NameError",
          "evalue": "name 'DS_CLASSIC' is not defined",
          "output_type": "error",
          "traceback": [
            "\u001b[31m---------------------------------------------------------------------------\u001b[39m",
            "\u001b[31mNameError\u001b[39m                                 Traceback (most recent call last)",
            "\u001b[36mCell\u001b[39m\u001b[36m \u001b[39m\u001b[32mIn[8]\u001b[39m\u001b[32m, line 2\u001b[39m\n\u001b[32m      1\u001b[39m \u001b[38;5;66;03m# split datasets and make loaders\u001b[39;00m\n\u001b[32m----> \u001b[39m\u001b[32m2\u001b[39m TRAIN_DS, TEST_DS = random_split(\u001b[43mDS_CLASSIC\u001b[49m, [\u001b[32m0.8\u001b[39m, \u001b[32m0.2\u001b[39m])\n\u001b[32m      3\u001b[39m train_loader = DataLoader(TRAIN_DS, batch_size=\u001b[32m64\u001b[39m, shuffle=\u001b[38;5;28;01mFalse\u001b[39;00m)\n\u001b[32m      4\u001b[39m test_loader = DataLoader(TEST_DS, batch_size=\u001b[32m64\u001b[39m, shuffle=\u001b[38;5;28;01mFalse\u001b[39;00m)\n",
            "\u001b[31mNameError\u001b[39m: name 'DS_CLASSIC' is not defined"
          ]
        }
      ],
      "source": [
        "# split datasets and make loaders\n",
        "TRAIN_DS, TEST_DS = random_split(DS_CLASSIC, [0.8, 0.2])\n",
        "train_loader = DataLoader(TRAIN_DS, batch_size=64, shuffle=False)\n",
        "test_loader = DataLoader(TEST_DS, batch_size=64, shuffle=False)"
      ]
    },
    {
      "cell_type": "code",
      "execution_count": 5,
      "metadata": {
        "id": "XKDGOEulhXME"
      },
      "outputs": [],
      "source": [
        "# create model\n",
        "class DNN(nn.Module):\n",
        "  def __init__(self, input_size, hidden_sizes, output_size):\n",
        "    super(DNN, self).__init__()\n",
        "\n",
        "    #layers\n",
        "    self.input = nn.Linear(input_size, hidden_sizes[0])\n",
        "    self.output = nn.Linear(hidden_sizes[-1], output_size)\n",
        "    self.hiddens = nn.ModuleList()\n",
        "    for i in range(len(hidden_sizes) - 1):\n",
        "      self.hiddens.append(nn.Linear(hidden_sizes[i], hidden_sizes[i+1]))\n",
        "\n",
        "  def forward(self, x):\n",
        "    x = F.relu(self.input(x))\n",
        "    for layer in self.hiddens:\n",
        "      x = F.relu(layer(x))\n",
        "\n",
        "    x = self.output(x)\n",
        "    return torch.sigmoid(x).view(-1)\n"
      ]
    },
    {
      "cell_type": "code",
      "execution_count": 6,
      "metadata": {
        "id": "uDhUdI5GtDIT"
      },
      "outputs": [
        {
          "name": "stdout",
          "output_type": "stream",
          "text": [
            "DNN(\n",
            "  (input): Linear(in_features=158, out_features=39, bias=True)\n",
            "  (output): Linear(in_features=19, out_features=1, bias=True)\n",
            "  (hiddens): ModuleList(\n",
            "    (0): Linear(in_features=39, out_features=19, bias=True)\n",
            "  )\n",
            ")\n"
          ]
        }
      ],
      "source": [
        "# create model\n",
        "input_shape = len(TRAINING_FEATURES)\n",
        "model = DNN(input_shape * 2, # because masking\n",
        "                [int(input_shape / 2), int(input_shape / 4)],\n",
        "                1)\n",
        "print(model)"
      ]
    },
    {
      "cell_type": "code",
      "execution_count": null,
      "metadata": {
        "id": "npQh_1W9f3I7"
      },
      "outputs": [
        {
          "name": "stderr",
          "output_type": "stream",
          "text": [
            "15857it [01:26, 183.01it/s]                           \n"
          ]
        },
        {
          "name": "stdout",
          "output_type": "stream",
          "text": [
            "epoch: 1/10, loss: 0.0613\n"
          ]
        },
        {
          "name": "stderr",
          "output_type": "stream",
          "text": [
            "15857it [01:23, 190.03it/s]                           \n"
          ]
        },
        {
          "name": "stdout",
          "output_type": "stream",
          "text": [
            "epoch: 2/10, loss: 0.0527\n"
          ]
        },
        {
          "name": "stderr",
          "output_type": "stream",
          "text": [
            "15857it [01:30, 174.93it/s]                           \n"
          ]
        },
        {
          "name": "stdout",
          "output_type": "stream",
          "text": [
            "epoch: 3/10, loss: 0.0474\n"
          ]
        },
        {
          "name": "stderr",
          "output_type": "stream",
          "text": [
            "15857it [01:28, 180.13it/s]                           \n"
          ]
        },
        {
          "name": "stdout",
          "output_type": "stream",
          "text": [
            "epoch: 4/10, loss: 0.0522\n"
          ]
        },
        {
          "name": "stderr",
          "output_type": "stream",
          "text": [
            "15857it [01:34, 167.43it/s]                           \n"
          ]
        },
        {
          "name": "stdout",
          "output_type": "stream",
          "text": [
            "epoch: 5/10, loss: 0.0568\n"
          ]
        },
        {
          "name": "stderr",
          "output_type": "stream",
          "text": [
            "15857it [01:35, 165.60it/s]                           \n"
          ]
        },
        {
          "name": "stdout",
          "output_type": "stream",
          "text": [
            "epoch: 6/10, loss: 0.0449\n"
          ]
        },
        {
          "name": "stderr",
          "output_type": "stream",
          "text": [
            "15857it [01:34, 168.42it/s]                           \n"
          ]
        },
        {
          "name": "stdout",
          "output_type": "stream",
          "text": [
            "epoch: 7/10, loss: 0.0458\n"
          ]
        },
        {
          "name": "stderr",
          "output_type": "stream",
          "text": [
            "15857it [01:34, 168.10it/s]                           \n"
          ]
        },
        {
          "name": "stdout",
          "output_type": "stream",
          "text": [
            "epoch: 8/10, loss: 0.0442\n"
          ]
        },
        {
          "name": "stderr",
          "output_type": "stream",
          "text": [
            "15857it [01:33, 168.93it/s]                           \n"
          ]
        },
        {
          "name": "stdout",
          "output_type": "stream",
          "text": [
            "epoch: 9/10, loss: 0.0602\n"
          ]
        },
        {
          "name": "stderr",
          "output_type": "stream",
          "text": [
            "15857it [01:34, 168.07it/s]                           \n"
          ]
        },
        {
          "name": "stdout",
          "output_type": "stream",
          "text": [
            "epoch: 10/10, loss: 0.0609\n"
          ]
        },
        {
          "ename": "ValueError",
          "evalue": "Precision not allowed in integer format specifier",
          "output_type": "error",
          "traceback": [
            "\u001b[31m---------------------------------------------------------------------------\u001b[39m",
            "\u001b[31mValueError\u001b[39m                                Traceback (most recent call last)",
            "\u001b[36mCell\u001b[39m\u001b[36m \u001b[39m\u001b[32mIn[7]\u001b[39m\u001b[32m, line 32\u001b[39m\n\u001b[32m     30\u001b[39m   \u001b[38;5;28mprint\u001b[39m(\u001b[33mf\u001b[39m\u001b[33m'\u001b[39m\u001b[33mepoch: \u001b[39m\u001b[38;5;132;01m{\u001b[39;00mepoch\u001b[38;5;250m \u001b[39m+\u001b[38;5;250m \u001b[39m\u001b[32m1\u001b[39m\u001b[38;5;132;01m}\u001b[39;00m\u001b[33m/\u001b[39m\u001b[38;5;132;01m{\u001b[39;00mepochs\u001b[38;5;132;01m}\u001b[39;00m\u001b[33m, loss: \u001b[39m\u001b[38;5;132;01m{\u001b[39;00mepoch_loss\u001b[38;5;132;01m:\u001b[39;00m\u001b[33m.4f\u001b[39m\u001b[38;5;132;01m}\u001b[39;00m\u001b[33m'\u001b[39m)\n\u001b[32m     31\u001b[39m \u001b[38;5;28mmin\u001b[39m, sec = \u001b[38;5;28mdivmod\u001b[39m(\u001b[38;5;28mint\u001b[39m(time.time() - train_start_time), \u001b[32m60\u001b[39m)\n\u001b[32m---> \u001b[39m\u001b[32m32\u001b[39m \u001b[38;5;28mprint\u001b[39m(\u001b[33mf\u001b[39m\u001b[33m'\u001b[39m\u001b[33mtrain time: \u001b[39m\u001b[38;5;132;01m{\u001b[39;00m\u001b[38;5;28mmin\u001b[39m\u001b[38;5;132;01m}\u001b[39;00m\u001b[33m:\u001b[39m\u001b[38;5;132;01m{\u001b[39;00msec\u001b[38;5;132;01m:\u001b[39;00m\u001b[33m.2d\u001b[39m\u001b[38;5;132;01m}\u001b[39;00m\u001b[33m'\u001b[39m)\n",
            "\u001b[31mValueError\u001b[39m: Precision not allowed in integer format specifier"
          ]
        }
      ],
      "source": [
        "# train\n",
        "torch.cuda.empty_cache()\n",
        "\n",
        "model.to(device)\n",
        "loss_fn = nn.BCELoss()\n",
        "optim = torch.optim.Adam(model.parameters(), lr=0.001, betas=(0.9,0.999))\n",
        "epochs = 10\n",
        "\n",
        "historical_loss = []\n",
        "\n",
        "train_start_time = time.time()\n",
        "for epoch in range(epochs):\n",
        "  model.train()\n",
        "  epoch_loss = 0.0\n",
        "\n",
        "  epoch_samples = 0\n",
        "  for x, y in tqdm(DS_ARROW, total=DS_ARROW.num_iterations):\n",
        "    x = x.to(device)\n",
        "    y = y.to(device)\n",
        "\n",
        "    optim.zero_grad()\n",
        "    out = model(x)\n",
        "    loss = loss_fn(out, y)\n",
        "    loss.backward()\n",
        "    optim.step()\n",
        "    epoch_loss += loss.item()\n",
        "\n",
        "  epoch_loss = epoch_loss / DS_ARROW.num_iterations\n",
        "  historical_loss.append(epoch_loss)\n",
        "  print(f'epoch: {epoch + 1}/{epochs}, loss: {epoch_loss:.4f}')\n",
        "min, sec = divmod(int(time.time() - train_start_time), 60)\n",
        "print(f'train time: {min}:{sec}')"
      ]
    },
    {
      "cell_type": "code",
      "execution_count": null,
      "metadata": {
        "id": "6EHs6YqKrcE7"
      },
      "outputs": [
        {
          "name": "stderr",
          "output_type": "stream",
          "text": [
            "15857it [01:04, 245.02it/s]                           \n"
          ]
        },
        {
          "ename": "ValueError",
          "evalue": "Precision not allowed in integer format specifier",
          "output_type": "error",
          "traceback": [
            "\u001b[31m---------------------------------------------------------------------------\u001b[39m",
            "\u001b[31mValueError\u001b[39m                                Traceback (most recent call last)",
            "\u001b[36mCell\u001b[39m\u001b[36m \u001b[39m\u001b[32mIn[8]\u001b[39m\u001b[32m, line 23\u001b[39m\n\u001b[32m     21\u001b[39m test_loss = test_loss / DS_ARROW.num_iterations\n\u001b[32m     22\u001b[39m \u001b[38;5;28mmin\u001b[39m, sec = \u001b[38;5;28mdivmod\u001b[39m(\u001b[38;5;28mint\u001b[39m(time.time() - train_start_time), \u001b[32m60\u001b[39m)\n\u001b[32m---> \u001b[39m\u001b[32m23\u001b[39m \u001b[38;5;28mprint\u001b[39m(\u001b[33mf\u001b[39m\u001b[33m'\u001b[39m\u001b[33mtrain time: \u001b[39m\u001b[38;5;132;01m{\u001b[39;00m\u001b[38;5;28mmin\u001b[39m\u001b[38;5;132;01m}\u001b[39;00m\u001b[33m:\u001b[39m\u001b[38;5;132;01m{\u001b[39;00msec\u001b[38;5;132;01m:\u001b[39;00m\u001b[33m.2d\u001b[39m\u001b[38;5;132;01m}\u001b[39;00m\u001b[33m'\u001b[39m)\n",
            "\u001b[31mValueError\u001b[39m: Precision not allowed in integer format specifier"
          ]
        }
      ],
      "source": [
        "# test\n",
        "model.eval()\n",
        "test_loss = 0.0\n",
        "test_start_time = time.time()\n",
        "\n",
        "historical_label = []\n",
        "historical_pred = []\n",
        "\n",
        "with torch.no_grad():\n",
        "  for x, y in tqdm(DS_ARROW, total=DS_ARROW.num_iterations):\n",
        "    x = x.to(device)\n",
        "    y = y.to(device)\n",
        "\n",
        "    out = model(x)\n",
        "    test_loss += loss_fn(out, y).item()\n",
        "\n",
        "    if random.random() < 0.001:\n",
        "      historical_label.append(y.to(\"cpu\"))\n",
        "      historical_pred.append(out.to(\"cpu\"))\n",
        "\n",
        "test_loss = test_loss / DS_ARROW.num_iterations\n",
        "print(f'loss: {test_loss:.4f}')\n",
        "min, sec = divmod(int(time.time() - train_start_time), 60)\n",
        "print(f'train time: {min}:{sec:.2d}')"
      ]
    },
    {
      "cell_type": "code",
      "execution_count": 25,
      "metadata": {},
      "outputs": [
        {
          "data": {
            "image/png": "[encoded data removed]",
            "text/plain": [
              "<Figure size 640x480 with 1 Axes>"
            ]
          },
          "metadata": {},
          "output_type": "display_data"
        },
        {
          "name": "stderr",
          "output_type": "stream",
          "text": [
            "C:\\Users\\imlam\\AppData\\Local\\Temp\\ipykernel_11384\\2340117585.py:32: DeprecationWarning: __array__ implementation doesn't accept a copy keyword, so passing copy=False failed. __array__ must implement 'dtype' and 'copy' keyword arguments. To learn more, see the migration guide https://numpy.org/devdocs/numpy_2_0_migration_guide.html#adapting-to-changes-in-the-copy-keyword\n",
            "  thresholds = np.array(thresholds)\n"
          ]
        },
        {
          "data": {
            "image/png": "[encoded data removed]",
            "text/plain": [
              "<Figure size 800x500 with 1 Axes>"
            ]
          },
          "metadata": {},
          "output_type": "display_data"
        },
        {
          "data": {
            "image/png": "[encoded data removed]",
            "text/plain": [
              "<Figure size 640x480 with 1 Axes>"
            ]
          },
          "metadata": {},
          "output_type": "display_data"
        }
      ],
      "source": [
        "# analyze\n",
        "\n",
        "# historical_pred = torch.cat(historical_pred).tolist()\n",
        "# historical_label = torch.cat(historical_label).tolist()\n",
        "\n",
        "# epoch loss\n",
        "plt.figure()\n",
        "plt.plot(range(1, epochs + 1), historical_loss, marker='o', color='blue')\n",
        "plt.title('Training Loss by Epoch')\n",
        "plt.xlabel('Epoch')\n",
        "plt.ylabel('Loss')\n",
        "plt.show()\n",
        "\n",
        "# accuracy\n",
        "def accuracy_at_threshold(y_scores, y_true, threshold):\n",
        "    y_pred = (y_scores >= threshold).float()\n",
        "    correct = (y_pred == y_true).sum().item()\n",
        "    return correct / len(y_true)\n",
        "\n",
        "thresh_steps = 100\n",
        "thresholds = torch.linspace(0, 1, steps=thresh_steps)\n",
        "accuracies = []\n",
        "for t in thresholds: \n",
        "    correct = 0\n",
        "    for i in range(len(historical_label)):\n",
        "        if (historical_pred[i] > t and historical_label[i] > 0.5) or \\\n",
        "        (historical_pred[i] < t and historical_label[i] < 0.5):\n",
        "            correct += 1\n",
        "\n",
        "    accuracies.append(correct / len(historical_label))\n",
        "\n",
        "thresholds = np.array(thresholds)\n",
        "accuracies = np.array(accuracies)\n",
        "max_idx = np.argmax(accuracies)\n",
        "best_thresh = thresholds[max_idx]\n",
        "best_acc = accuracies[max_idx]\n",
        "\n",
        "plt.figure(figsize=(8, 5))\n",
        "plt.plot(thresholds[1:], accuracies[1:], label='Accuracy')\n",
        "plt.scatter([best_thresh], [best_acc], color='red', zorder=5, label=f'Max Accuracy={best_acc:.2f}')\n",
        "plt.text(best_thresh, best_acc + 0.01, f'Thresh={best_thresh:.5f}', ha='center', color='red')\n",
        "plt.xlabel('Threshold')\n",
        "plt.ylabel('Accuracy')\n",
        "plt.title('Accuracy vs Threshold')\n",
        "plt.legend()\n",
        "plt.tight_layout()\n",
        "plt.show()\n",
        "\n",
        "# roc and auc\n",
        "fpr, tpr, thresholds_roc = roc_curve(historical_label, historical_pred)\n",
        "roc_auc = auc(fpr, tpr)\n",
        "\n",
        "for i in range(len(thresholds_roc)):\n",
        "    if thresholds_roc[i] <= (best_thresh + (1/thresh_steps)) and \\\n",
        "    thresholds_roc[i] >= (best_thresh - (1/thresh_steps)):\n",
        "        best_fpr = fpr[i]\n",
        "        best_tpr = tpr[i]\n",
        "        break\n",
        "\n",
        "plt.figure()\n",
        "plt.plot(fpr, tpr, color='darkorange', lw=2, label=f\"ROC curve (AUC = {roc_auc:.2f})\")\n",
        "plt.plot([0, 1], [0, 1], color='navy', lw=2, linestyle='--')  # Diagonal line\n",
        "plt.scatter([best_fpr], [best_tpr], color='red', zorder=5, label=f'Max Accuracy')\n",
        "plt.xlim([0.0, 1.0])\n",
        "plt.ylim([0.0, 1.05])\n",
        "plt.xlabel(\"False Positive Rate\")\n",
        "plt.ylabel(\"True Positive Rate\")\n",
        "plt.title(\"Receiver Operating Characteristic\")\n",
        "plt.legend(loc=\"lower right\")\n",
        "plt.show()"
      ]
    }
  ],
  "metadata": {
    "accelerator": "GPU",
    "colab": {
      "gpuType": "T4",
      "provenance": []
    },
    "kernelspec": {
      "display_name": ".venv",
      "language": "python",
      "name": "python3"
    },
    "language_info": {
      "codemirror_mode": {
        "name": "ipython",
        "version": 3
      },
      "file_extension": ".py",
      "mimetype": "text/x-python",
      "name": "python",
      "nbconvert_exporter": "python",
      "pygments_lexer": "ipython3",
      "version": "3.13.1"
    }
  },
  "nbformat": 4,
  "nbformat_minor": 0
}
